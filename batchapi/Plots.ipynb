{
 "cells": [
  {
   "cell_type": "code",
   "execution_count": 113,
   "id": "b4863239",
   "metadata": {},
   "outputs": [],
   "source": [
    "import matplotlib.pyplot as plt\n",
    "import numpy as np\n",
    "import pandas as pd\n",
    "import json\n",
    "from os import listdir\n",
    "from os.path import isfile, join\n",
    "from sklearn.linear_model import LinearRegression\n",
    "plt.rcParams[\"figure.figsize\"] = (20,10)"
   ]
  },
  {
   "cell_type": "code",
   "execution_count": 90,
   "id": "dc1da327",
   "metadata": {},
   "outputs": [],
   "source": [
    "log_dir = \"stress_logs\""
   ]
  },
  {
   "cell_type": "code",
   "execution_count": 91,
   "id": "3395f449",
   "metadata": {},
   "outputs": [
    {
     "data": {
      "text/plain": [
       "['stressPut5800Entries.KeyLen20.log',\n",
       " 'stressPut4600Entries.KeyLen20.log',\n",
       " 'stressPut2800Entries.KeyLen20.log',\n",
       " 'stressPut8800Entries.KeyLen20.log',\n",
       " 'stressPutAndDel7.KeyLen20.log']"
      ]
     },
     "execution_count": 91,
     "metadata": {},
     "output_type": "execute_result"
    }
   ],
   "source": [
    "stress_files = [f for f in listdir(log_dir) if isfile(join(log_dir, f))]\n",
    "stress_files[:5]"
   ]
  },
  {
   "cell_type": "markdown",
   "id": "ce956797",
   "metadata": {},
   "source": [
    "## Кейс: PutWithSameKeyNumberNtimes\n",
    "Проанализируем данные, где в леджер идет запись одинакового множества ключей несколько раз. Сравниваться будут однократный вызов PutStateBatch и вызов PutState/PutPrivateData в цикле, так как последние методы могут записывать по одному ключу за раз."
   ]
  },
  {
   "cell_type": "code",
   "execution_count": 92,
   "id": "621b48b7",
   "metadata": {},
   "outputs": [
    {
     "data": {
      "text/plain": [
       "['stressPut5800Entries.KeyLen20.log',\n",
       " 'stressPut4600Entries.KeyLen20.log',\n",
       " 'stressPut2800Entries.KeyLen20.log',\n",
       " 'stressPut8800Entries.KeyLen20.log',\n",
       " 'stressPut7600Entries.KeyLen20.log']"
      ]
     },
     "execution_count": 92,
     "metadata": {},
     "output_type": "execute_result"
    }
   ],
   "source": [
    "stress_put_files = [f for f in stress_files if f.startswith(\"stressPut\") and 'Del' not in f]\n",
    "stress_put_files[:5]"
   ]
  },
  {
   "cell_type": "code",
   "execution_count": 93,
   "id": "92220629",
   "metadata": {},
   "outputs": [],
   "source": [
    "# Function to read test files\n",
    "def readFiles(log_files, stress_tests):\n",
    "    for f in log_files:\n",
    "        with open(join(log_dir, f), 'r') as reader:\n",
    "            lines = reader.readlines()\n",
    "            for line in lines:\n",
    "                obj = json.loads(line)\n",
    "                stress_tests.append(obj)\n",
    "            "
   ]
  },
  {
   "cell_type": "code",
   "execution_count": 94,
   "id": "fe419b10",
   "metadata": {},
   "outputs": [],
   "source": [
    "put_stress_tests = []\n",
    "\n",
    "readFiles(stress_put_files, put_stress_tests)"
   ]
  },
  {
   "cell_type": "code",
   "execution_count": 95,
   "id": "7c574117",
   "metadata": {},
   "outputs": [],
   "source": [
    "putTestDf = pd.DataFrame.from_records(put_stress_tests)"
   ]
  },
  {
   "cell_type": "code",
   "execution_count": 96,
   "id": "16370ddc",
   "metadata": {},
   "outputs": [
    {
     "data": {
      "text/html": [
       "<div>\n",
       "<style scoped>\n",
       "    .dataframe tbody tr th:only-of-type {\n",
       "        vertical-align: middle;\n",
       "    }\n",
       "\n",
       "    .dataframe tbody tr th {\n",
       "        vertical-align: top;\n",
       "    }\n",
       "\n",
       "    .dataframe thead th {\n",
       "        text-align: right;\n",
       "    }\n",
       "</style>\n",
       "<table border=\"1\" class=\"dataframe\">\n",
       "  <thead>\n",
       "    <tr style=\"text-align: right;\">\n",
       "      <th></th>\n",
       "      <th>method</th>\n",
       "      <th>entries</th>\n",
       "      <th>millis</th>\n",
       "      <th>keylen</th>\n",
       "      <th>batchapi</th>\n",
       "      <th>collection</th>\n",
       "      <th>seed</th>\n",
       "    </tr>\n",
       "  </thead>\n",
       "  <tbody>\n",
       "    <tr>\n",
       "      <th>0</th>\n",
       "      <td>put</td>\n",
       "      <td>5800</td>\n",
       "      <td>6</td>\n",
       "      <td>20</td>\n",
       "      <td>True</td>\n",
       "      <td></td>\n",
       "      <td>10</td>\n",
       "    </tr>\n",
       "    <tr>\n",
       "      <th>1</th>\n",
       "      <td>put</td>\n",
       "      <td>5800</td>\n",
       "      <td>7</td>\n",
       "      <td>20</td>\n",
       "      <td>True</td>\n",
       "      <td></td>\n",
       "      <td>10</td>\n",
       "    </tr>\n",
       "    <tr>\n",
       "      <th>2</th>\n",
       "      <td>put</td>\n",
       "      <td>5800</td>\n",
       "      <td>13</td>\n",
       "      <td>20</td>\n",
       "      <td>True</td>\n",
       "      <td></td>\n",
       "      <td>10</td>\n",
       "    </tr>\n",
       "    <tr>\n",
       "      <th>3</th>\n",
       "      <td>put</td>\n",
       "      <td>5800</td>\n",
       "      <td>7</td>\n",
       "      <td>20</td>\n",
       "      <td>True</td>\n",
       "      <td></td>\n",
       "      <td>10</td>\n",
       "    </tr>\n",
       "    <tr>\n",
       "      <th>4</th>\n",
       "      <td>put</td>\n",
       "      <td>5800</td>\n",
       "      <td>7</td>\n",
       "      <td>20</td>\n",
       "      <td>True</td>\n",
       "      <td></td>\n",
       "      <td>10</td>\n",
       "    </tr>\n",
       "  </tbody>\n",
       "</table>\n",
       "</div>"
      ],
      "text/plain": [
       "  method  entries  millis  keylen  batchapi collection  seed\n",
       "0    put     5800       6      20      True               10\n",
       "1    put     5800       7      20      True               10\n",
       "2    put     5800      13      20      True               10\n",
       "3    put     5800       7      20      True               10\n",
       "4    put     5800       7      20      True               10"
      ]
     },
     "execution_count": 96,
     "metadata": {},
     "output_type": "execute_result"
    }
   ],
   "source": [
    "putTestDf.head()"
   ]
  },
  {
   "cell_type": "code",
   "execution_count": 97,
   "id": "c2e88f40",
   "metadata": {},
   "outputs": [],
   "source": [
    "# In case if log files contain not only \"put\" method\n",
    "putTestDf = putTestDf.loc[putTestDf['method'] == 'put']"
   ]
  },
  {
   "cell_type": "code",
   "execution_count": 98,
   "id": "0c558e93",
   "metadata": {},
   "outputs": [
    {
     "data": {
      "text/html": [
       "<div>\n",
       "<style scoped>\n",
       "    .dataframe tbody tr th:only-of-type {\n",
       "        vertical-align: middle;\n",
       "    }\n",
       "\n",
       "    .dataframe tbody tr th {\n",
       "        vertical-align: top;\n",
       "    }\n",
       "\n",
       "    .dataframe thead th {\n",
       "        text-align: right;\n",
       "    }\n",
       "</style>\n",
       "<table border=\"1\" class=\"dataframe\">\n",
       "  <thead>\n",
       "    <tr style=\"text-align: right;\">\n",
       "      <th></th>\n",
       "      <th>method</th>\n",
       "      <th>entries</th>\n",
       "      <th>millis</th>\n",
       "      <th>keylen</th>\n",
       "      <th>batchapi</th>\n",
       "      <th>collection</th>\n",
       "      <th>seed</th>\n",
       "    </tr>\n",
       "  </thead>\n",
       "  <tbody>\n",
       "    <tr>\n",
       "      <th>0</th>\n",
       "      <td>put</td>\n",
       "      <td>5800</td>\n",
       "      <td>6</td>\n",
       "      <td>20</td>\n",
       "      <td>True</td>\n",
       "      <td></td>\n",
       "      <td>10</td>\n",
       "    </tr>\n",
       "    <tr>\n",
       "      <th>1</th>\n",
       "      <td>put</td>\n",
       "      <td>5800</td>\n",
       "      <td>7</td>\n",
       "      <td>20</td>\n",
       "      <td>True</td>\n",
       "      <td></td>\n",
       "      <td>10</td>\n",
       "    </tr>\n",
       "    <tr>\n",
       "      <th>2</th>\n",
       "      <td>put</td>\n",
       "      <td>5800</td>\n",
       "      <td>13</td>\n",
       "      <td>20</td>\n",
       "      <td>True</td>\n",
       "      <td></td>\n",
       "      <td>10</td>\n",
       "    </tr>\n",
       "    <tr>\n",
       "      <th>3</th>\n",
       "      <td>put</td>\n",
       "      <td>5800</td>\n",
       "      <td>7</td>\n",
       "      <td>20</td>\n",
       "      <td>True</td>\n",
       "      <td></td>\n",
       "      <td>10</td>\n",
       "    </tr>\n",
       "    <tr>\n",
       "      <th>4</th>\n",
       "      <td>put</td>\n",
       "      <td>5800</td>\n",
       "      <td>7</td>\n",
       "      <td>20</td>\n",
       "      <td>True</td>\n",
       "      <td></td>\n",
       "      <td>10</td>\n",
       "    </tr>\n",
       "  </tbody>\n",
       "</table>\n",
       "</div>"
      ],
      "text/plain": [
       "  method  entries  millis  keylen  batchapi collection  seed\n",
       "0    put     5800       6      20      True               10\n",
       "1    put     5800       7      20      True               10\n",
       "2    put     5800      13      20      True               10\n",
       "3    put     5800       7      20      True               10\n",
       "4    put     5800       7      20      True               10"
      ]
     },
     "execution_count": 98,
     "metadata": {},
     "output_type": "execute_result"
    }
   ],
   "source": [
    "# Get entries with BatchAPI\n",
    "putTestDfBatch = putTestDf.loc[putTestDf['batchapi'] == True]\n",
    "putTestDfBatch.head()"
   ]
  },
  {
   "cell_type": "code",
   "execution_count": 99,
   "id": "669bbfb3",
   "metadata": {},
   "outputs": [
    {
     "data": {
      "text/html": [
       "<div>\n",
       "<style scoped>\n",
       "    .dataframe tbody tr th:only-of-type {\n",
       "        vertical-align: middle;\n",
       "    }\n",
       "\n",
       "    .dataframe tbody tr th {\n",
       "        vertical-align: top;\n",
       "    }\n",
       "\n",
       "    .dataframe thead th {\n",
       "        text-align: right;\n",
       "    }\n",
       "</style>\n",
       "<table border=\"1\" class=\"dataframe\">\n",
       "  <thead>\n",
       "    <tr style=\"text-align: right;\">\n",
       "      <th></th>\n",
       "      <th>method</th>\n",
       "      <th>entries</th>\n",
       "      <th>millis</th>\n",
       "      <th>keylen</th>\n",
       "      <th>batchapi</th>\n",
       "      <th>collection</th>\n",
       "      <th>seed</th>\n",
       "    </tr>\n",
       "  </thead>\n",
       "  <tbody>\n",
       "    <tr>\n",
       "      <th>10</th>\n",
       "      <td>put</td>\n",
       "      <td>5800</td>\n",
       "      <td>2153</td>\n",
       "      <td>20</td>\n",
       "      <td>False</td>\n",
       "      <td></td>\n",
       "      <td>10</td>\n",
       "    </tr>\n",
       "    <tr>\n",
       "      <th>11</th>\n",
       "      <td>put</td>\n",
       "      <td>5800</td>\n",
       "      <td>2026</td>\n",
       "      <td>20</td>\n",
       "      <td>False</td>\n",
       "      <td></td>\n",
       "      <td>10</td>\n",
       "    </tr>\n",
       "    <tr>\n",
       "      <th>12</th>\n",
       "      <td>put</td>\n",
       "      <td>5800</td>\n",
       "      <td>1952</td>\n",
       "      <td>20</td>\n",
       "      <td>False</td>\n",
       "      <td></td>\n",
       "      <td>10</td>\n",
       "    </tr>\n",
       "    <tr>\n",
       "      <th>13</th>\n",
       "      <td>put</td>\n",
       "      <td>5800</td>\n",
       "      <td>2211</td>\n",
       "      <td>20</td>\n",
       "      <td>False</td>\n",
       "      <td></td>\n",
       "      <td>10</td>\n",
       "    </tr>\n",
       "    <tr>\n",
       "      <th>14</th>\n",
       "      <td>put</td>\n",
       "      <td>5800</td>\n",
       "      <td>2149</td>\n",
       "      <td>20</td>\n",
       "      <td>False</td>\n",
       "      <td></td>\n",
       "      <td>10</td>\n",
       "    </tr>\n",
       "  </tbody>\n",
       "</table>\n",
       "</div>"
      ],
      "text/plain": [
       "   method  entries  millis  keylen  batchapi collection  seed\n",
       "10    put     5800    2153      20     False               10\n",
       "11    put     5800    2026      20     False               10\n",
       "12    put     5800    1952      20     False               10\n",
       "13    put     5800    2211      20     False               10\n",
       "14    put     5800    2149      20     False               10"
      ]
     },
     "execution_count": 99,
     "metadata": {},
     "output_type": "execute_result"
    }
   ],
   "source": [
    "# Get entries without use of BatchAPI\n",
    "putTestDfNoBatch = putTestDf.loc[putTestDf['batchapi'] == False]\n",
    "putTestDfNoBatch.head()"
   ]
  },
  {
   "cell_type": "code",
   "execution_count": 100,
   "id": "3cfbedb6",
   "metadata": {},
   "outputs": [
    {
     "data": {
      "text/html": [
       "<div>\n",
       "<style scoped>\n",
       "    .dataframe tbody tr th:only-of-type {\n",
       "        vertical-align: middle;\n",
       "    }\n",
       "\n",
       "    .dataframe tbody tr th {\n",
       "        vertical-align: top;\n",
       "    }\n",
       "\n",
       "    .dataframe thead th {\n",
       "        text-align: right;\n",
       "    }\n",
       "</style>\n",
       "<table border=\"1\" class=\"dataframe\">\n",
       "  <thead>\n",
       "    <tr style=\"text-align: right;\">\n",
       "      <th></th>\n",
       "      <th>millis</th>\n",
       "      <th>keylen</th>\n",
       "      <th>batchapi</th>\n",
       "      <th>seed</th>\n",
       "    </tr>\n",
       "    <tr>\n",
       "      <th>entries</th>\n",
       "      <th></th>\n",
       "      <th></th>\n",
       "      <th></th>\n",
       "      <th></th>\n",
       "    </tr>\n",
       "  </thead>\n",
       "  <tbody>\n",
       "    <tr>\n",
       "      <th>100</th>\n",
       "      <td>0.65</td>\n",
       "      <td>20.0</td>\n",
       "      <td>True</td>\n",
       "      <td>10.0</td>\n",
       "    </tr>\n",
       "    <tr>\n",
       "      <th>400</th>\n",
       "      <td>1.15</td>\n",
       "      <td>20.0</td>\n",
       "      <td>True</td>\n",
       "      <td>10.0</td>\n",
       "    </tr>\n",
       "    <tr>\n",
       "      <th>700</th>\n",
       "      <td>1.35</td>\n",
       "      <td>20.0</td>\n",
       "      <td>True</td>\n",
       "      <td>10.0</td>\n",
       "    </tr>\n",
       "    <tr>\n",
       "      <th>1000</th>\n",
       "      <td>1.70</td>\n",
       "      <td>20.0</td>\n",
       "      <td>True</td>\n",
       "      <td>10.0</td>\n",
       "    </tr>\n",
       "    <tr>\n",
       "      <th>1300</th>\n",
       "      <td>1.70</td>\n",
       "      <td>20.0</td>\n",
       "      <td>True</td>\n",
       "      <td>10.0</td>\n",
       "    </tr>\n",
       "  </tbody>\n",
       "</table>\n",
       "</div>"
      ],
      "text/plain": [
       "         millis  keylen  batchapi  seed\n",
       "entries                                \n",
       "100        0.65    20.0      True  10.0\n",
       "400        1.15    20.0      True  10.0\n",
       "700        1.35    20.0      True  10.0\n",
       "1000       1.70    20.0      True  10.0\n",
       "1300       1.70    20.0      True  10.0"
      ]
     },
     "execution_count": 100,
     "metadata": {},
     "output_type": "execute_result"
    }
   ],
   "source": [
    "putTestBatchMean = putTestDfBatch.groupby(['entries']).mean()\n",
    "putTestBatchMean.head()"
   ]
  },
  {
   "cell_type": "code",
   "execution_count": 101,
   "id": "49437bda",
   "metadata": {},
   "outputs": [
    {
     "data": {
      "text/html": [
       "<div>\n",
       "<style scoped>\n",
       "    .dataframe tbody tr th:only-of-type {\n",
       "        vertical-align: middle;\n",
       "    }\n",
       "\n",
       "    .dataframe tbody tr th {\n",
       "        vertical-align: top;\n",
       "    }\n",
       "\n",
       "    .dataframe thead th {\n",
       "        text-align: right;\n",
       "    }\n",
       "</style>\n",
       "<table border=\"1\" class=\"dataframe\">\n",
       "  <thead>\n",
       "    <tr style=\"text-align: right;\">\n",
       "      <th></th>\n",
       "      <th>millis</th>\n",
       "      <th>keylen</th>\n",
       "      <th>batchapi</th>\n",
       "      <th>seed</th>\n",
       "    </tr>\n",
       "    <tr>\n",
       "      <th>entries</th>\n",
       "      <th></th>\n",
       "      <th></th>\n",
       "      <th></th>\n",
       "      <th></th>\n",
       "    </tr>\n",
       "  </thead>\n",
       "  <tbody>\n",
       "    <tr>\n",
       "      <th>100</th>\n",
       "      <td>41.20</td>\n",
       "      <td>20.0</td>\n",
       "      <td>False</td>\n",
       "      <td>10.0</td>\n",
       "    </tr>\n",
       "    <tr>\n",
       "      <th>400</th>\n",
       "      <td>156.35</td>\n",
       "      <td>20.0</td>\n",
       "      <td>False</td>\n",
       "      <td>10.0</td>\n",
       "    </tr>\n",
       "    <tr>\n",
       "      <th>700</th>\n",
       "      <td>268.60</td>\n",
       "      <td>20.0</td>\n",
       "      <td>False</td>\n",
       "      <td>10.0</td>\n",
       "    </tr>\n",
       "    <tr>\n",
       "      <th>1000</th>\n",
       "      <td>389.60</td>\n",
       "      <td>20.0</td>\n",
       "      <td>False</td>\n",
       "      <td>10.0</td>\n",
       "    </tr>\n",
       "    <tr>\n",
       "      <th>1300</th>\n",
       "      <td>502.65</td>\n",
       "      <td>20.0</td>\n",
       "      <td>False</td>\n",
       "      <td>10.0</td>\n",
       "    </tr>\n",
       "  </tbody>\n",
       "</table>\n",
       "</div>"
      ],
      "text/plain": [
       "         millis  keylen  batchapi  seed\n",
       "entries                                \n",
       "100       41.20    20.0     False  10.0\n",
       "400      156.35    20.0     False  10.0\n",
       "700      268.60    20.0     False  10.0\n",
       "1000     389.60    20.0     False  10.0\n",
       "1300     502.65    20.0     False  10.0"
      ]
     },
     "execution_count": 101,
     "metadata": {},
     "output_type": "execute_result"
    }
   ],
   "source": [
    "putTestNoBatchMean = putTestDfNoBatch.groupby(['entries']).mean()\n",
    "putTestNoBatchMean.head()"
   ]
  },
  {
   "cell_type": "code",
   "execution_count": 142,
   "id": "4f0122fa",
   "metadata": {},
   "outputs": [],
   "source": [
    "# Function to calculate linear regression\n",
    "def linear_regression(df):\n",
    "    y = np.array(df['millis'])\n",
    "    x = np.array(df['entries']).reshape((-1, 1))\n",
    "    model = LinearRegression()\n",
    "    model.fit(x, y)\n",
    "    r_sq = model.score(x, y)\n",
    "    return [r_sq, model.intercept_, model.coef_[0]]"
   ]
  },
  {
   "cell_type": "code",
   "execution_count": 151,
   "id": "a374a29b",
   "metadata": {},
   "outputs": [],
   "source": [
    "# Function to plot error bars\n",
    "def plot_error_bars(groupdf, title, coef, interc, r2):\n",
    "    mean = np.array(groupdf.mean()['millis'])\n",
    "    std = np.array(groupdf.std()['millis'])\n",
    "    entries = [name for name, _ in groupdf]\n",
    "    linfunc = lambda x: coef * x + interc\n",
    "    x = np.array([100, 10000])\n",
    "    plt.title(title)\n",
    "    plt.xlabel(\"Number of keys\")\n",
    "    plt.ylabel(\"Milliseconds\")\n",
    "    plt.errorbar(entries, mean, std, fmt='--o')\n",
    "    plt.plot(x, linfunc(x), label=\"{:.6f} * x + {:.6f}, R^2 = {:.4}\".format(coef, interc, r2))\n",
    "    plt.legend()\n",
    "    plt.show()\n",
    "    "
   ]
  },
  {
   "cell_type": "code",
   "execution_count": 154,
   "id": "09ae8461",
   "metadata": {},
   "outputs": [
    {
     "data": {
      "image/png": "[encoded data removed]",
      "text/plain": [
       "<Figure size 1440x720 with 1 Axes>"
      ]
     },
     "metadata": {
      "needs_background": "light"
     },
     "output_type": "display_data"
    }
   ],
   "source": [
    "[r2, interc, coef] = linear_regression(putTestDfNoBatch)\n",
    "\n",
    "plot_error_bars(putTestDfNoBatch.groupby('entries'), \"Put Without BatchAPI Mean with Std\", coef, interc, r2)"
   ]
  },
  {
   "cell_type": "code",
   "execution_count": 155,
   "id": "c1589d0c",
   "metadata": {},
   "outputs": [
    {
     "data": {
      "image/png": "[encoded data removed]",
      "text/plain": [
       "<Figure size 1440x720 with 1 Axes>"
      ]
     },
     "metadata": {
      "needs_background": "light"
     },
     "output_type": "display_data"
    }
   ],
   "source": [
    "[r2, interc, coef] = linear_regression(putTestDfBatch)\n",
    "plot_error_bars(putTestDfBatch.groupby('entries'), \"Put BatchAPI Mean with Std\", coef, interc, r2)"
   ]
  },
  {
   "cell_type": "markdown",
   "id": "6705ca9d",
   "metadata": {},
   "source": [
    "## Кейс: DelState vs DelStateBatch\n",
    "Проанализируем данные, где происходит удаление данных из леджера"
   ]
  },
  {
   "cell_type": "code",
   "execution_count": 160,
   "id": "7bcc2648",
   "metadata": {},
   "outputs": [
    {
     "data": {
      "text/plain": [
       "['stressPutAndDel7.KeyLen20.log',\n",
       " 'stressPutAndDel6.KeyLen20.log',\n",
       " 'stressPutAndDel1.KeyLen20.log',\n",
       " 'stressPutAndDel8.KeyLen20.log',\n",
       " 'stressPutAndDel9.KeyLen20.log']"
      ]
     },
     "execution_count": 160,
     "metadata": {},
     "output_type": "execute_result"
    }
   ],
   "source": [
    "del_files = [f for f in stress_files if \"PutAndDel\" in f]\n",
    "del_files[:5]"
   ]
  },
  {
   "cell_type": "code",
   "execution_count": 161,
   "id": "ee5c4902",
   "metadata": {},
   "outputs": [
    {
     "data": {
      "text/html": [
       "<div>\n",
       "<style scoped>\n",
       "    .dataframe tbody tr th:only-of-type {\n",
       "        vertical-align: middle;\n",
       "    }\n",
       "\n",
       "    .dataframe tbody tr th {\n",
       "        vertical-align: top;\n",
       "    }\n",
       "\n",
       "    .dataframe thead th {\n",
       "        text-align: right;\n",
       "    }\n",
       "</style>\n",
       "<table border=\"1\" class=\"dataframe\">\n",
       "  <thead>\n",
       "    <tr style=\"text-align: right;\">\n",
       "      <th></th>\n",
       "      <th>method</th>\n",
       "      <th>entries</th>\n",
       "      <th>millis</th>\n",
       "      <th>keylen</th>\n",
       "      <th>batchapi</th>\n",
       "      <th>collection</th>\n",
       "      <th>seed</th>\n",
       "    </tr>\n",
       "  </thead>\n",
       "  <tbody>\n",
       "    <tr>\n",
       "      <th>0</th>\n",
       "      <td>put</td>\n",
       "      <td>100</td>\n",
       "      <td>0</td>\n",
       "      <td>20</td>\n",
       "      <td>True</td>\n",
       "      <td></td>\n",
       "      <td>10</td>\n",
       "    </tr>\n",
       "    <tr>\n",
       "      <th>1</th>\n",
       "      <td>del</td>\n",
       "      <td>100</td>\n",
       "      <td>1</td>\n",
       "      <td>20</td>\n",
       "      <td>True</td>\n",
       "      <td></td>\n",
       "      <td>10</td>\n",
       "    </tr>\n",
       "    <tr>\n",
       "      <th>2</th>\n",
       "      <td>put</td>\n",
       "      <td>400</td>\n",
       "      <td>2</td>\n",
       "      <td>20</td>\n",
       "      <td>True</td>\n",
       "      <td></td>\n",
       "      <td>10</td>\n",
       "    </tr>\n",
       "    <tr>\n",
       "      <th>3</th>\n",
       "      <td>del</td>\n",
       "      <td>400</td>\n",
       "      <td>0</td>\n",
       "      <td>20</td>\n",
       "      <td>True</td>\n",
       "      <td></td>\n",
       "      <td>10</td>\n",
       "    </tr>\n",
       "    <tr>\n",
       "      <th>4</th>\n",
       "      <td>put</td>\n",
       "      <td>700</td>\n",
       "      <td>1</td>\n",
       "      <td>20</td>\n",
       "      <td>True</td>\n",
       "      <td></td>\n",
       "      <td>10</td>\n",
       "    </tr>\n",
       "  </tbody>\n",
       "</table>\n",
       "</div>"
      ],
      "text/plain": [
       "  method  entries  millis  keylen  batchapi collection  seed\n",
       "0    put      100       0      20      True               10\n",
       "1    del      100       1      20      True               10\n",
       "2    put      400       2      20      True               10\n",
       "3    del      400       0      20      True               10\n",
       "4    put      700       1      20      True               10"
      ]
     },
     "execution_count": 161,
     "metadata": {},
     "output_type": "execute_result"
    }
   ],
   "source": [
    "del_tests = []\n",
    "\n",
    "readFiles(del_files, del_tests)\n",
    "\n",
    "delTestDf = pd.DataFrame.from_records(del_tests)\n",
    "delTestDf.head()"
   ]
  },
  {
   "cell_type": "code",
   "execution_count": 162,
   "id": "44379ce6",
   "metadata": {},
   "outputs": [
    {
     "data": {
      "text/html": [
       "<div>\n",
       "<style scoped>\n",
       "    .dataframe tbody tr th:only-of-type {\n",
       "        vertical-align: middle;\n",
       "    }\n",
       "\n",
       "    .dataframe tbody tr th {\n",
       "        vertical-align: top;\n",
       "    }\n",
       "\n",
       "    .dataframe thead th {\n",
       "        text-align: right;\n",
       "    }\n",
       "</style>\n",
       "<table border=\"1\" class=\"dataframe\">\n",
       "  <thead>\n",
       "    <tr style=\"text-align: right;\">\n",
       "      <th></th>\n",
       "      <th>method</th>\n",
       "      <th>entries</th>\n",
       "      <th>millis</th>\n",
       "      <th>keylen</th>\n",
       "      <th>batchapi</th>\n",
       "      <th>collection</th>\n",
       "      <th>seed</th>\n",
       "    </tr>\n",
       "  </thead>\n",
       "  <tbody>\n",
       "    <tr>\n",
       "      <th>1</th>\n",
       "      <td>del</td>\n",
       "      <td>100</td>\n",
       "      <td>1</td>\n",
       "      <td>20</td>\n",
       "      <td>True</td>\n",
       "      <td></td>\n",
       "      <td>10</td>\n",
       "    </tr>\n",
       "    <tr>\n",
       "      <th>3</th>\n",
       "      <td>del</td>\n",
       "      <td>400</td>\n",
       "      <td>0</td>\n",
       "      <td>20</td>\n",
       "      <td>True</td>\n",
       "      <td></td>\n",
       "      <td>10</td>\n",
       "    </tr>\n",
       "    <tr>\n",
       "      <th>5</th>\n",
       "      <td>del</td>\n",
       "      <td>700</td>\n",
       "      <td>1</td>\n",
       "      <td>20</td>\n",
       "      <td>True</td>\n",
       "      <td></td>\n",
       "      <td>10</td>\n",
       "    </tr>\n",
       "    <tr>\n",
       "      <th>7</th>\n",
       "      <td>del</td>\n",
       "      <td>1000</td>\n",
       "      <td>1</td>\n",
       "      <td>20</td>\n",
       "      <td>True</td>\n",
       "      <td></td>\n",
       "      <td>10</td>\n",
       "    </tr>\n",
       "    <tr>\n",
       "      <th>9</th>\n",
       "      <td>del</td>\n",
       "      <td>1300</td>\n",
       "      <td>2</td>\n",
       "      <td>20</td>\n",
       "      <td>True</td>\n",
       "      <td></td>\n",
       "      <td>10</td>\n",
       "    </tr>\n",
       "  </tbody>\n",
       "</table>\n",
       "</div>"
      ],
      "text/plain": [
       "  method  entries  millis  keylen  batchapi collection  seed\n",
       "1    del      100       1      20      True               10\n",
       "3    del      400       0      20      True               10\n",
       "5    del      700       1      20      True               10\n",
       "7    del     1000       1      20      True               10\n",
       "9    del     1300       2      20      True               10"
      ]
     },
     "execution_count": 162,
     "metadata": {},
     "output_type": "execute_result"
    }
   ],
   "source": [
    "# We need only \"method=del\" data\n",
    "delTestDf = delTestDf.loc[delTestDf[\"method\"] == \"del\"]\n",
    "delTestDf.head()"
   ]
  },
  {
   "cell_type": "code",
   "execution_count": 163,
   "id": "12d14839",
   "metadata": {},
   "outputs": [
    {
     "data": {
      "text/html": [
       "<div>\n",
       "<style scoped>\n",
       "    .dataframe tbody tr th:only-of-type {\n",
       "        vertical-align: middle;\n",
       "    }\n",
       "\n",
       "    .dataframe tbody tr th {\n",
       "        vertical-align: top;\n",
       "    }\n",
       "\n",
       "    .dataframe thead th {\n",
       "        text-align: right;\n",
       "    }\n",
       "</style>\n",
       "<table border=\"1\" class=\"dataframe\">\n",
       "  <thead>\n",
       "    <tr style=\"text-align: right;\">\n",
       "      <th></th>\n",
       "      <th>method</th>\n",
       "      <th>entries</th>\n",
       "      <th>millis</th>\n",
       "      <th>keylen</th>\n",
       "      <th>batchapi</th>\n",
       "      <th>collection</th>\n",
       "      <th>seed</th>\n",
       "    </tr>\n",
       "  </thead>\n",
       "  <tbody>\n",
       "    <tr>\n",
       "      <th>1</th>\n",
       "      <td>del</td>\n",
       "      <td>100</td>\n",
       "      <td>1</td>\n",
       "      <td>20</td>\n",
       "      <td>True</td>\n",
       "      <td></td>\n",
       "      <td>10</td>\n",
       "    </tr>\n",
       "    <tr>\n",
       "      <th>3</th>\n",
       "      <td>del</td>\n",
       "      <td>400</td>\n",
       "      <td>0</td>\n",
       "      <td>20</td>\n",
       "      <td>True</td>\n",
       "      <td></td>\n",
       "      <td>10</td>\n",
       "    </tr>\n",
       "    <tr>\n",
       "      <th>5</th>\n",
       "      <td>del</td>\n",
       "      <td>700</td>\n",
       "      <td>1</td>\n",
       "      <td>20</td>\n",
       "      <td>True</td>\n",
       "      <td></td>\n",
       "      <td>10</td>\n",
       "    </tr>\n",
       "    <tr>\n",
       "      <th>7</th>\n",
       "      <td>del</td>\n",
       "      <td>1000</td>\n",
       "      <td>1</td>\n",
       "      <td>20</td>\n",
       "      <td>True</td>\n",
       "      <td></td>\n",
       "      <td>10</td>\n",
       "    </tr>\n",
       "    <tr>\n",
       "      <th>9</th>\n",
       "      <td>del</td>\n",
       "      <td>1300</td>\n",
       "      <td>2</td>\n",
       "      <td>20</td>\n",
       "      <td>True</td>\n",
       "      <td></td>\n",
       "      <td>10</td>\n",
       "    </tr>\n",
       "  </tbody>\n",
       "</table>\n",
       "</div>"
      ],
      "text/plain": [
       "  method  entries  millis  keylen  batchapi collection  seed\n",
       "1    del      100       1      20      True               10\n",
       "3    del      400       0      20      True               10\n",
       "5    del      700       1      20      True               10\n",
       "7    del     1000       1      20      True               10\n",
       "9    del     1300       2      20      True               10"
      ]
     },
     "execution_count": 163,
     "metadata": {},
     "output_type": "execute_result"
    }
   ],
   "source": [
    "# Get entries with BatchAPI\n",
    "delTestDfBatch = delTestDf.loc[delTestDf['batchapi'] == True]\n",
    "delTestDfBatch.head()"
   ]
  },
  {
   "cell_type": "code",
   "execution_count": 164,
   "id": "21ec5051",
   "metadata": {},
   "outputs": [
    {
     "data": {
      "text/html": [
       "<div>\n",
       "<style scoped>\n",
       "    .dataframe tbody tr th:only-of-type {\n",
       "        vertical-align: middle;\n",
       "    }\n",
       "\n",
       "    .dataframe tbody tr th {\n",
       "        vertical-align: top;\n",
       "    }\n",
       "\n",
       "    .dataframe thead th {\n",
       "        text-align: right;\n",
       "    }\n",
       "</style>\n",
       "<table border=\"1\" class=\"dataframe\">\n",
       "  <thead>\n",
       "    <tr style=\"text-align: right;\">\n",
       "      <th></th>\n",
       "      <th>method</th>\n",
       "      <th>entries</th>\n",
       "      <th>millis</th>\n",
       "      <th>keylen</th>\n",
       "      <th>batchapi</th>\n",
       "      <th>collection</th>\n",
       "      <th>seed</th>\n",
       "    </tr>\n",
       "  </thead>\n",
       "  <tbody>\n",
       "    <tr>\n",
       "      <th>273</th>\n",
       "      <td>del</td>\n",
       "      <td>100</td>\n",
       "      <td>50</td>\n",
       "      <td>20</td>\n",
       "      <td>False</td>\n",
       "      <td></td>\n",
       "      <td>10</td>\n",
       "    </tr>\n",
       "    <tr>\n",
       "      <th>275</th>\n",
       "      <td>del</td>\n",
       "      <td>400</td>\n",
       "      <td>151</td>\n",
       "      <td>20</td>\n",
       "      <td>False</td>\n",
       "      <td></td>\n",
       "      <td>10</td>\n",
       "    </tr>\n",
       "    <tr>\n",
       "      <th>277</th>\n",
       "      <td>del</td>\n",
       "      <td>700</td>\n",
       "      <td>253</td>\n",
       "      <td>20</td>\n",
       "      <td>False</td>\n",
       "      <td></td>\n",
       "      <td>10</td>\n",
       "    </tr>\n",
       "    <tr>\n",
       "      <th>279</th>\n",
       "      <td>del</td>\n",
       "      <td>1000</td>\n",
       "      <td>377</td>\n",
       "      <td>20</td>\n",
       "      <td>False</td>\n",
       "      <td></td>\n",
       "      <td>10</td>\n",
       "    </tr>\n",
       "    <tr>\n",
       "      <th>281</th>\n",
       "      <td>del</td>\n",
       "      <td>1300</td>\n",
       "      <td>483</td>\n",
       "      <td>20</td>\n",
       "      <td>False</td>\n",
       "      <td></td>\n",
       "      <td>10</td>\n",
       "    </tr>\n",
       "  </tbody>\n",
       "</table>\n",
       "</div>"
      ],
      "text/plain": [
       "    method  entries  millis  keylen  batchapi collection  seed\n",
       "273    del      100      50      20     False               10\n",
       "275    del      400     151      20     False               10\n",
       "277    del      700     253      20     False               10\n",
       "279    del     1000     377      20     False               10\n",
       "281    del     1300     483      20     False               10"
      ]
     },
     "execution_count": 164,
     "metadata": {},
     "output_type": "execute_result"
    }
   ],
   "source": [
    "# Get entries without use of BatchAPI\n",
    "delTestDfNoBatch = delTestDf.loc[delTestDf['batchapi'] == False]\n",
    "delTestDfNoBatch.head()"
   ]
  },
  {
   "cell_type": "code",
   "execution_count": 166,
   "id": "71bd8885",
   "metadata": {},
   "outputs": [
    {
     "data": {
      "text/html": [
       "<div>\n",
       "<style scoped>\n",
       "    .dataframe tbody tr th:only-of-type {\n",
       "        vertical-align: middle;\n",
       "    }\n",
       "\n",
       "    .dataframe tbody tr th {\n",
       "        vertical-align: top;\n",
       "    }\n",
       "\n",
       "    .dataframe thead th {\n",
       "        text-align: right;\n",
       "    }\n",
       "</style>\n",
       "<table border=\"1\" class=\"dataframe\">\n",
       "  <thead>\n",
       "    <tr style=\"text-align: right;\">\n",
       "      <th></th>\n",
       "      <th>millis</th>\n",
       "      <th>keylen</th>\n",
       "      <th>batchapi</th>\n",
       "      <th>seed</th>\n",
       "    </tr>\n",
       "    <tr>\n",
       "      <th>entries</th>\n",
       "      <th></th>\n",
       "      <th></th>\n",
       "      <th></th>\n",
       "      <th></th>\n",
       "    </tr>\n",
       "  </thead>\n",
       "  <tbody>\n",
       "    <tr>\n",
       "      <th>100</th>\n",
       "      <td>0.666667</td>\n",
       "      <td>20.0</td>\n",
       "      <td>True</td>\n",
       "      <td>10.0</td>\n",
       "    </tr>\n",
       "    <tr>\n",
       "      <th>400</th>\n",
       "      <td>0.750000</td>\n",
       "      <td>20.0</td>\n",
       "      <td>True</td>\n",
       "      <td>10.0</td>\n",
       "    </tr>\n",
       "    <tr>\n",
       "      <th>700</th>\n",
       "      <td>1.416667</td>\n",
       "      <td>20.0</td>\n",
       "      <td>True</td>\n",
       "      <td>10.0</td>\n",
       "    </tr>\n",
       "    <tr>\n",
       "      <th>1000</th>\n",
       "      <td>2.250000</td>\n",
       "      <td>20.0</td>\n",
       "      <td>True</td>\n",
       "      <td>10.0</td>\n",
       "    </tr>\n",
       "    <tr>\n",
       "      <th>1300</th>\n",
       "      <td>2.083333</td>\n",
       "      <td>20.0</td>\n",
       "      <td>True</td>\n",
       "      <td>10.0</td>\n",
       "    </tr>\n",
       "  </tbody>\n",
       "</table>\n",
       "</div>"
      ],
      "text/plain": [
       "           millis  keylen  batchapi  seed\n",
       "entries                                  \n",
       "100      0.666667    20.0      True  10.0\n",
       "400      0.750000    20.0      True  10.0\n",
       "700      1.416667    20.0      True  10.0\n",
       "1000     2.250000    20.0      True  10.0\n",
       "1300     2.083333    20.0      True  10.0"
      ]
     },
     "execution_count": 166,
     "metadata": {},
     "output_type": "execute_result"
    }
   ],
   "source": [
    "# BatchAPI Del invokations mean by entries\n",
    "delTestBatchMean = delTestDfBatch.groupby(['entries']).mean()\n",
    "delTestBatchMean.head()"
   ]
  },
  {
   "cell_type": "code",
   "execution_count": 167,
   "id": "1ae36673",
   "metadata": {},
   "outputs": [
    {
     "data": {
      "text/html": [
       "<div>\n",
       "<style scoped>\n",
       "    .dataframe tbody tr th:only-of-type {\n",
       "        vertical-align: middle;\n",
       "    }\n",
       "\n",
       "    .dataframe tbody tr th {\n",
       "        vertical-align: top;\n",
       "    }\n",
       "\n",
       "    .dataframe thead th {\n",
       "        text-align: right;\n",
       "    }\n",
       "</style>\n",
       "<table border=\"1\" class=\"dataframe\">\n",
       "  <thead>\n",
       "    <tr style=\"text-align: right;\">\n",
       "      <th></th>\n",
       "      <th>millis</th>\n",
       "      <th>keylen</th>\n",
       "      <th>batchapi</th>\n",
       "      <th>seed</th>\n",
       "    </tr>\n",
       "    <tr>\n",
       "      <th>entries</th>\n",
       "      <th></th>\n",
       "      <th></th>\n",
       "      <th></th>\n",
       "      <th></th>\n",
       "    </tr>\n",
       "  </thead>\n",
       "  <tbody>\n",
       "    <tr>\n",
       "      <th>100</th>\n",
       "      <td>44.00</td>\n",
       "      <td>20.0</td>\n",
       "      <td>False</td>\n",
       "      <td>10.0</td>\n",
       "    </tr>\n",
       "    <tr>\n",
       "      <th>400</th>\n",
       "      <td>157.00</td>\n",
       "      <td>20.0</td>\n",
       "      <td>False</td>\n",
       "      <td>10.0</td>\n",
       "    </tr>\n",
       "    <tr>\n",
       "      <th>700</th>\n",
       "      <td>265.50</td>\n",
       "      <td>20.0</td>\n",
       "      <td>False</td>\n",
       "      <td>10.0</td>\n",
       "    </tr>\n",
       "    <tr>\n",
       "      <th>1000</th>\n",
       "      <td>399.00</td>\n",
       "      <td>20.0</td>\n",
       "      <td>False</td>\n",
       "      <td>10.0</td>\n",
       "    </tr>\n",
       "    <tr>\n",
       "      <th>1300</th>\n",
       "      <td>490.25</td>\n",
       "      <td>20.0</td>\n",
       "      <td>False</td>\n",
       "      <td>10.0</td>\n",
       "    </tr>\n",
       "  </tbody>\n",
       "</table>\n",
       "</div>"
      ],
      "text/plain": [
       "         millis  keylen  batchapi  seed\n",
       "entries                                \n",
       "100       44.00    20.0     False  10.0\n",
       "400      157.00    20.0     False  10.0\n",
       "700      265.50    20.0     False  10.0\n",
       "1000     399.00    20.0     False  10.0\n",
       "1300     490.25    20.0     False  10.0"
      ]
     },
     "execution_count": 167,
     "metadata": {},
     "output_type": "execute_result"
    }
   ],
   "source": [
    "# Without use of BatchAPI Del invokations mean by entries\n",
    "delTestNoBatchMean = delTestDfNoBatch.groupby(['entries']).mean()\n",
    "delTestNoBatchMean.head()"
   ]
  },
  {
   "cell_type": "code",
   "execution_count": 169,
   "id": "7a4d0c77",
   "metadata": {},
   "outputs": [
    {
     "data": {
      "image/png": "[encoded data removed]",
      "text/plain": [
       "<Figure size 1440x720 with 1 Axes>"
      ]
     },
     "metadata": {
      "needs_background": "light"
     },
     "output_type": "display_data"
    }
   ],
   "source": [
    "[r2, interc, coef] = linear_regression(delTestDfNoBatch)\n",
    "\n",
    "plot_error_bars(delTestDfNoBatch.groupby('entries'), \"Del Without BatchAPI Mean with Std\", coef, interc, r2)"
   ]
  },
  {
   "cell_type": "code",
   "execution_count": 170,
   "id": "047366cb",
   "metadata": {},
   "outputs": [
    {
     "data": {
      "image/png": "[encoded data removed]",
      "text/plain": [
       "<Figure size 1440x720 with 1 Axes>"
      ]
     },
     "metadata": {
      "needs_background": "light"
     },
     "output_type": "display_data"
    }
   ],
   "source": [
    "[r2, interc, coef] = linear_regression(delTestDfBatch)\n",
    "plot_error_bars(delTestDfBatch.groupby('entries'), \"Del BatchAPI Mean with Std\", coef, interc, r2)"
   ]
  },
  {
   "cell_type": "markdown",
   "id": "6987ba3c",
   "metadata": {},
   "source": [
    "## Кейс: GetRange vs GetStateBatch\n",
    "Проанализируем данные, где происходит чтение данных GetStateByRange и GetStateBatch"
   ]
  },
  {
   "cell_type": "code",
   "execution_count": 157,
   "id": "c935cb00",
   "metadata": {},
   "outputs": [
    {
     "data": {
      "text/plain": [
       "['scenarioGetRangeVSBatchAPI1.log']"
      ]
     },
     "execution_count": 157,
     "metadata": {},
     "output_type": "execute_result"
    }
   ],
   "source": [
    "getrange_files = [f for f in stress_files if \"GetRangeVSBatchAPI\" in f]\n",
    "getrange_files[:5]"
   ]
  },
  {
   "cell_type": "code",
   "execution_count": 159,
   "id": "e4ab727f",
   "metadata": {},
   "outputs": [
    {
     "data": {
      "text/html": [
       "<div>\n",
       "<style scoped>\n",
       "    .dataframe tbody tr th:only-of-type {\n",
       "        vertical-align: middle;\n",
       "    }\n",
       "\n",
       "    .dataframe tbody tr th {\n",
       "        vertical-align: top;\n",
       "    }\n",
       "\n",
       "    .dataframe thead th {\n",
       "        text-align: right;\n",
       "    }\n",
       "</style>\n",
       "<table border=\"1\" class=\"dataframe\">\n",
       "  <thead>\n",
       "    <tr style=\"text-align: right;\">\n",
       "      <th></th>\n",
       "      <th>method</th>\n",
       "      <th>entries</th>\n",
       "      <th>millis</th>\n",
       "      <th>batchapi</th>\n",
       "    </tr>\n",
       "  </thead>\n",
       "  <tbody>\n",
       "    <tr>\n",
       "      <th>0</th>\n",
       "      <td>getrange</td>\n",
       "      <td>3337</td>\n",
       "      <td>64</td>\n",
       "      <td>False</td>\n",
       "    </tr>\n",
       "    <tr>\n",
       "      <th>1</th>\n",
       "      <td>getrange</td>\n",
       "      <td>4001</td>\n",
       "      <td>30</td>\n",
       "      <td>True</td>\n",
       "    </tr>\n",
       "    <tr>\n",
       "      <th>2</th>\n",
       "      <td>getrange</td>\n",
       "      <td>3337</td>\n",
       "      <td>52</td>\n",
       "      <td>False</td>\n",
       "    </tr>\n",
       "    <tr>\n",
       "      <th>3</th>\n",
       "      <td>getrange</td>\n",
       "      <td>4001</td>\n",
       "      <td>26</td>\n",
       "      <td>True</td>\n",
       "    </tr>\n",
       "    <tr>\n",
       "      <th>4</th>\n",
       "      <td>getrange</td>\n",
       "      <td>3337</td>\n",
       "      <td>48</td>\n",
       "      <td>False</td>\n",
       "    </tr>\n",
       "  </tbody>\n",
       "</table>\n",
       "</div>"
      ],
      "text/plain": [
       "     method  entries  millis  batchapi\n",
       "0  getrange     3337      64     False\n",
       "1  getrange     4001      30      True\n",
       "2  getrange     3337      52     False\n",
       "3  getrange     4001      26      True\n",
       "4  getrange     3337      48     False"
      ]
     },
     "execution_count": 159,
     "metadata": {},
     "output_type": "execute_result"
    }
   ],
   "source": [
    "getrange_tests = []\n",
    "\n",
    "readFiles(getrange_files, getrange_tests)\n",
    "\n",
    "putTestDf = pd.DataFrame.from_records(getrange_tests)\n",
    "putTestDf.head()"
   ]
  }
 ],
 "metadata": {
  "kernelspec": {
   "display_name": "Python 3",
   "language": "python",
   "name": "python3"
  },
  "language_info": {
   "codemirror_mode": {
    "name": "ipython",
    "version": 3
   },
   "file_extension": ".py",
   "mimetype": "text/x-python",
   "name": "python",
   "nbconvert_exporter": "python",
   "pygments_lexer": "ipython3",
   "version": "3.8.8"
  }
 },
 "nbformat": 4,
 "nbformat_minor": 5
}
