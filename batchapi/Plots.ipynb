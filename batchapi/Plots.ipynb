{
 "cells": [
  {
   "cell_type": "code",
   "execution_count": 171,
   "id": "b4863239",
   "metadata": {},
   "outputs": [],
   "source": [
    "import matplotlib.pyplot as plt\n",
    "import numpy as np\n",
    "import pandas as pd\n",
    "import json\n",
    "from os import listdir\n",
    "from os.path import isfile, join\n",
    "from sklearn.linear_model import LinearRegression\n",
    "plt.rcParams[\"figure.figsize\"] = (20,10)"
   ]
  },
  {
   "cell_type": "code",
   "execution_count": 172,
   "id": "9e3ffb60",
   "metadata": {},
   "outputs": [],
   "source": [
    "log_dir = \"stress_logs\""
   ]
  },
  {
   "cell_type": "code",
   "execution_count": 173,
   "id": "18b07193",
   "metadata": {},
   "outputs": [
    {
     "data": {
      "text/plain": [
       "['stressPut5800Entries.KeyLen20.log',\n",
       " 'stressPut4600Entries.KeyLen20.log',\n",
       " 'stressPut2800Entries.KeyLen20.log',\n",
       " 'stressPut8800Entries.KeyLen20.log',\n",
       " 'stressPutAndDel7.KeyLen20.log']"
      ]
     },
     "execution_count": 173,
     "metadata": {},
     "output_type": "execute_result"
    }
   ],
   "source": [
    "stress_files = [f for f in listdir(log_dir) if isfile(join(log_dir, f))]\n",
    "stress_files[:5]"
   ]
  },
  {
   "cell_type": "markdown",
   "id": "de6bcbf5",
   "metadata": {},
   "source": [
    "## Кейс: PutWithSameKeyNumberNtimes\n",
    "Проанализируем данные, где в леджер идет запись одинакового множества ключей несколько раз. Сравниваться будут однократный вызов PutStateBatch и вызов PutState/PutPrivateData в цикле, так как последние методы могут записывать по одному ключу за раз."
   ]
  },
  {
   "cell_type": "code",
   "execution_count": 174,
   "id": "f9227e09",
   "metadata": {},
   "outputs": [
    {
     "data": {
      "text/plain": [
       "['stressPut5800Entries.KeyLen20.log',\n",
       " 'stressPut4600Entries.KeyLen20.log',\n",
       " 'stressPut2800Entries.KeyLen20.log',\n",
       " 'stressPut8800Entries.KeyLen20.log',\n",
       " 'stressPut7600Entries.KeyLen20.log']"
      ]
     },
     "execution_count": 174,
     "metadata": {},
     "output_type": "execute_result"
    }
   ],
   "source": [
    "stress_put_files = [f for f in stress_files if f.startswith(\"stressPut\") and 'Del' not in f]\n",
    "stress_put_files[:5]"
   ]
  },
  {
   "cell_type": "code",
   "execution_count": 175,
   "id": "aabfce4e",
   "metadata": {},
   "outputs": [],
   "source": [
    "# Function to read test files\n",
    "def readFiles(log_files, stress_tests):\n",
    "    for f in log_files:\n",
    "        with open(join(log_dir, f), 'r') as reader:\n",
    "            lines = reader.readlines()\n",
    "            for line in lines:\n",
    "                obj = json.loads(line)\n",
    "                stress_tests.append(obj)\n",
    "            "
   ]
  },
  {
   "cell_type": "code",
   "execution_count": 176,
   "id": "62d61f6c",
   "metadata": {},
   "outputs": [],
   "source": [
    "put_stress_tests = []\n",
    "\n",
    "readFiles(stress_put_files, put_stress_tests)"
   ]
  },
  {
   "cell_type": "code",
   "execution_count": 177,
   "id": "26d50034",
   "metadata": {},
   "outputs": [],
   "source": [
    "putTestDf = pd.DataFrame.from_records(put_stress_tests)"
   ]
  },
  {
   "cell_type": "code",
   "execution_count": 178,
   "id": "f22c125a",
   "metadata": {},
   "outputs": [
    {
     "data": {
      "text/html": [
       "<div>\n",
       "<style scoped>\n",
       "    .dataframe tbody tr th:only-of-type {\n",
       "        vertical-align: middle;\n",
       "    }\n",
       "\n",
       "    .dataframe tbody tr th {\n",
       "        vertical-align: top;\n",
       "    }\n",
       "\n",
       "    .dataframe thead th {\n",
       "        text-align: right;\n",
       "    }\n",
       "</style>\n",
       "<table border=\"1\" class=\"dataframe\">\n",
       "  <thead>\n",
       "    <tr style=\"text-align: right;\">\n",
       "      <th></th>\n",
       "      <th>method</th>\n",
       "      <th>entries</th>\n",
       "      <th>millis</th>\n",
       "      <th>keylen</th>\n",
       "      <th>batchapi</th>\n",
       "      <th>collection</th>\n",
       "      <th>seed</th>\n",
       "    </tr>\n",
       "  </thead>\n",
       "  <tbody>\n",
       "    <tr>\n",
       "      <th>0</th>\n",
       "      <td>put</td>\n",
       "      <td>5800</td>\n",
       "      <td>6</td>\n",
       "      <td>20</td>\n",
       "      <td>True</td>\n",
       "      <td></td>\n",
       "      <td>10</td>\n",
       "    </tr>\n",
       "    <tr>\n",
       "      <th>1</th>\n",
       "      <td>put</td>\n",
       "      <td>5800</td>\n",
       "      <td>7</td>\n",
       "      <td>20</td>\n",
       "      <td>True</td>\n",
       "      <td></td>\n",
       "      <td>10</td>\n",
       "    </tr>\n",
       "    <tr>\n",
       "      <th>2</th>\n",
       "      <td>put</td>\n",
       "      <td>5800</td>\n",
       "      <td>13</td>\n",
       "      <td>20</td>\n",
       "      <td>True</td>\n",
       "      <td></td>\n",
       "      <td>10</td>\n",
       "    </tr>\n",
       "    <tr>\n",
       "      <th>3</th>\n",
       "      <td>put</td>\n",
       "      <td>5800</td>\n",
       "      <td>7</td>\n",
       "      <td>20</td>\n",
       "      <td>True</td>\n",
       "      <td></td>\n",
       "      <td>10</td>\n",
       "    </tr>\n",
       "    <tr>\n",
       "      <th>4</th>\n",
       "      <td>put</td>\n",
       "      <td>5800</td>\n",
       "      <td>7</td>\n",
       "      <td>20</td>\n",
       "      <td>True</td>\n",
       "      <td></td>\n",
       "      <td>10</td>\n",
       "    </tr>\n",
       "  </tbody>\n",
       "</table>\n",
       "</div>"
      ],
      "text/plain": [
       "  method  entries  millis  keylen  batchapi collection  seed\n",
       "0    put     5800       6      20      True               10\n",
       "1    put     5800       7      20      True               10\n",
       "2    put     5800      13      20      True               10\n",
       "3    put     5800       7      20      True               10\n",
       "4    put     5800       7      20      True               10"
      ]
     },
     "execution_count": 178,
     "metadata": {},
     "output_type": "execute_result"
    }
   ],
   "source": [
    "putTestDf.head()"
   ]
  },
  {
   "cell_type": "code",
   "execution_count": 179,
   "id": "9411e316",
   "metadata": {},
   "outputs": [],
   "source": [
    "# In case if log files contain not only \"put\" method\n",
    "putTestDf = putTestDf.loc[putTestDf['method'] == 'put']"
   ]
  },
  {
   "cell_type": "code",
   "execution_count": 180,
   "id": "f218a9cf",
   "metadata": {},
   "outputs": [
    {
     "data": {
      "text/html": [
       "<div>\n",
       "<style scoped>\n",
       "    .dataframe tbody tr th:only-of-type {\n",
       "        vertical-align: middle;\n",
       "    }\n",
       "\n",
       "    .dataframe tbody tr th {\n",
       "        vertical-align: top;\n",
       "    }\n",
       "\n",
       "    .dataframe thead th {\n",
       "        text-align: right;\n",
       "    }\n",
       "</style>\n",
       "<table border=\"1\" class=\"dataframe\">\n",
       "  <thead>\n",
       "    <tr style=\"text-align: right;\">\n",
       "      <th></th>\n",
       "      <th>method</th>\n",
       "      <th>entries</th>\n",
       "      <th>millis</th>\n",
       "      <th>keylen</th>\n",
       "      <th>batchapi</th>\n",
       "      <th>collection</th>\n",
       "      <th>seed</th>\n",
       "    </tr>\n",
       "  </thead>\n",
       "  <tbody>\n",
       "    <tr>\n",
       "      <th>0</th>\n",
       "      <td>put</td>\n",
       "      <td>5800</td>\n",
       "      <td>6</td>\n",
       "      <td>20</td>\n",
       "      <td>True</td>\n",
       "      <td></td>\n",
       "      <td>10</td>\n",
       "    </tr>\n",
       "    <tr>\n",
       "      <th>1</th>\n",
       "      <td>put</td>\n",
       "      <td>5800</td>\n",
       "      <td>7</td>\n",
       "      <td>20</td>\n",
       "      <td>True</td>\n",
       "      <td></td>\n",
       "      <td>10</td>\n",
       "    </tr>\n",
       "    <tr>\n",
       "      <th>2</th>\n",
       "      <td>put</td>\n",
       "      <td>5800</td>\n",
       "      <td>13</td>\n",
       "      <td>20</td>\n",
       "      <td>True</td>\n",
       "      <td></td>\n",
       "      <td>10</td>\n",
       "    </tr>\n",
       "    <tr>\n",
       "      <th>3</th>\n",
       "      <td>put</td>\n",
       "      <td>5800</td>\n",
       "      <td>7</td>\n",
       "      <td>20</td>\n",
       "      <td>True</td>\n",
       "      <td></td>\n",
       "      <td>10</td>\n",
       "    </tr>\n",
       "    <tr>\n",
       "      <th>4</th>\n",
       "      <td>put</td>\n",
       "      <td>5800</td>\n",
       "      <td>7</td>\n",
       "      <td>20</td>\n",
       "      <td>True</td>\n",
       "      <td></td>\n",
       "      <td>10</td>\n",
       "    </tr>\n",
       "  </tbody>\n",
       "</table>\n",
       "</div>"
      ],
      "text/plain": [
       "  method  entries  millis  keylen  batchapi collection  seed\n",
       "0    put     5800       6      20      True               10\n",
       "1    put     5800       7      20      True               10\n",
       "2    put     5800      13      20      True               10\n",
       "3    put     5800       7      20      True               10\n",
       "4    put     5800       7      20      True               10"
      ]
     },
     "execution_count": 180,
     "metadata": {},
     "output_type": "execute_result"
    }
   ],
   "source": [
    "# Get entries with BatchAPI\n",
    "putTestDfBatch = putTestDf.loc[putTestDf['batchapi'] == True]\n",
    "putTestDfBatch.head()"
   ]
  },
  {
   "cell_type": "code",
   "execution_count": 181,
   "id": "989f155e",
   "metadata": {},
   "outputs": [
    {
     "data": {
      "text/html": [
       "<div>\n",
       "<style scoped>\n",
       "    .dataframe tbody tr th:only-of-type {\n",
       "        vertical-align: middle;\n",
       "    }\n",
       "\n",
       "    .dataframe tbody tr th {\n",
       "        vertical-align: top;\n",
       "    }\n",
       "\n",
       "    .dataframe thead th {\n",
       "        text-align: right;\n",
       "    }\n",
       "</style>\n",
       "<table border=\"1\" class=\"dataframe\">\n",
       "  <thead>\n",
       "    <tr style=\"text-align: right;\">\n",
       "      <th></th>\n",
       "      <th>method</th>\n",
       "      <th>entries</th>\n",
       "      <th>millis</th>\n",
       "      <th>keylen</th>\n",
       "      <th>batchapi</th>\n",
       "      <th>collection</th>\n",
       "      <th>seed</th>\n",
       "    </tr>\n",
       "  </thead>\n",
       "  <tbody>\n",
       "    <tr>\n",
       "      <th>10</th>\n",
       "      <td>put</td>\n",
       "      <td>5800</td>\n",
       "      <td>2153</td>\n",
       "      <td>20</td>\n",
       "      <td>False</td>\n",
       "      <td></td>\n",
       "      <td>10</td>\n",
       "    </tr>\n",
       "    <tr>\n",
       "      <th>11</th>\n",
       "      <td>put</td>\n",
       "      <td>5800</td>\n",
       "      <td>2026</td>\n",
       "      <td>20</td>\n",
       "      <td>False</td>\n",
       "      <td></td>\n",
       "      <td>10</td>\n",
       "    </tr>\n",
       "    <tr>\n",
       "      <th>12</th>\n",
       "      <td>put</td>\n",
       "      <td>5800</td>\n",
       "      <td>1952</td>\n",
       "      <td>20</td>\n",
       "      <td>False</td>\n",
       "      <td></td>\n",
       "      <td>10</td>\n",
       "    </tr>\n",
       "    <tr>\n",
       "      <th>13</th>\n",
       "      <td>put</td>\n",
       "      <td>5800</td>\n",
       "      <td>2211</td>\n",
       "      <td>20</td>\n",
       "      <td>False</td>\n",
       "      <td></td>\n",
       "      <td>10</td>\n",
       "    </tr>\n",
       "    <tr>\n",
       "      <th>14</th>\n",
       "      <td>put</td>\n",
       "      <td>5800</td>\n",
       "      <td>2149</td>\n",
       "      <td>20</td>\n",
       "      <td>False</td>\n",
       "      <td></td>\n",
       "      <td>10</td>\n",
       "    </tr>\n",
       "  </tbody>\n",
       "</table>\n",
       "</div>"
      ],
      "text/plain": [
       "   method  entries  millis  keylen  batchapi collection  seed\n",
       "10    put     5800    2153      20     False               10\n",
       "11    put     5800    2026      20     False               10\n",
       "12    put     5800    1952      20     False               10\n",
       "13    put     5800    2211      20     False               10\n",
       "14    put     5800    2149      20     False               10"
      ]
     },
     "execution_count": 181,
     "metadata": {},
     "output_type": "execute_result"
    }
   ],
   "source": [
    "# Get entries without use of BatchAPI\n",
    "putTestDfNoBatch = putTestDf.loc[putTestDf['batchapi'] == False]\n",
    "putTestDfNoBatch.head()"
   ]
  },
  {
   "cell_type": "code",
   "execution_count": 182,
   "id": "3cfbedb6",
   "metadata": {},
   "outputs": [
    {
     "data": {
      "text/html": [
       "<div>\n",
       "<style scoped>\n",
       "    .dataframe tbody tr th:only-of-type {\n",
       "        vertical-align: middle;\n",
       "    }\n",
       "\n",
       "    .dataframe tbody tr th {\n",
       "        vertical-align: top;\n",
       "    }\n",
       "\n",
       "    .dataframe thead th {\n",
       "        text-align: right;\n",
       "    }\n",
       "</style>\n",
       "<table border=\"1\" class=\"dataframe\">\n",
       "  <thead>\n",
       "    <tr style=\"text-align: right;\">\n",
       "      <th></th>\n",
       "      <th>millis</th>\n",
       "      <th>keylen</th>\n",
       "      <th>batchapi</th>\n",
       "      <th>seed</th>\n",
       "    </tr>\n",
       "    <tr>\n",
       "      <th>entries</th>\n",
       "      <th></th>\n",
       "      <th></th>\n",
       "      <th></th>\n",
       "      <th></th>\n",
       "    </tr>\n",
       "  </thead>\n",
       "  <tbody>\n",
       "    <tr>\n",
       "      <th>100</th>\n",
       "      <td>0.65</td>\n",
       "      <td>20.0</td>\n",
       "      <td>True</td>\n",
       "      <td>10.0</td>\n",
       "    </tr>\n",
       "    <tr>\n",
       "      <th>400</th>\n",
       "      <td>1.15</td>\n",
       "      <td>20.0</td>\n",
       "      <td>True</td>\n",
       "      <td>10.0</td>\n",
       "    </tr>\n",
       "    <tr>\n",
       "      <th>700</th>\n",
       "      <td>1.35</td>\n",
       "      <td>20.0</td>\n",
       "      <td>True</td>\n",
       "      <td>10.0</td>\n",
       "    </tr>\n",
       "    <tr>\n",
       "      <th>1000</th>\n",
       "      <td>1.70</td>\n",
       "      <td>20.0</td>\n",
       "      <td>True</td>\n",
       "      <td>10.0</td>\n",
       "    </tr>\n",
       "    <tr>\n",
       "      <th>1300</th>\n",
       "      <td>1.70</td>\n",
       "      <td>20.0</td>\n",
       "      <td>True</td>\n",
       "      <td>10.0</td>\n",
       "    </tr>\n",
       "  </tbody>\n",
       "</table>\n",
       "</div>"
      ],
      "text/plain": [
       "         millis  keylen  batchapi  seed\n",
       "entries                                \n",
       "100        0.65    20.0      True  10.0\n",
       "400        1.15    20.0      True  10.0\n",
       "700        1.35    20.0      True  10.0\n",
       "1000       1.70    20.0      True  10.0\n",
       "1300       1.70    20.0      True  10.0"
      ]
     },
     "execution_count": 182,
     "metadata": {},
     "output_type": "execute_result"
    }
   ],
   "source": [
    "putTestBatchMean = putTestDfBatch.groupby(['entries']).mean()\n",
    "putTestBatchMean.head()"
   ]
  },
  {
   "cell_type": "code",
   "execution_count": 183,
   "id": "24561a90",
   "metadata": {},
   "outputs": [
    {
     "data": {
      "text/html": [
       "<div>\n",
       "<style scoped>\n",
       "    .dataframe tbody tr th:only-of-type {\n",
       "        vertical-align: middle;\n",
       "    }\n",
       "\n",
       "    .dataframe tbody tr th {\n",
       "        vertical-align: top;\n",
       "    }\n",
       "\n",
       "    .dataframe thead th {\n",
       "        text-align: right;\n",
       "    }\n",
       "</style>\n",
       "<table border=\"1\" class=\"dataframe\">\n",
       "  <thead>\n",
       "    <tr style=\"text-align: right;\">\n",
       "      <th></th>\n",
       "      <th>millis</th>\n",
       "      <th>keylen</th>\n",
       "      <th>batchapi</th>\n",
       "      <th>seed</th>\n",
       "    </tr>\n",
       "    <tr>\n",
       "      <th>entries</th>\n",
       "      <th></th>\n",
       "      <th></th>\n",
       "      <th></th>\n",
       "      <th></th>\n",
       "    </tr>\n",
       "  </thead>\n",
       "  <tbody>\n",
       "    <tr>\n",
       "      <th>100</th>\n",
       "      <td>41.20</td>\n",
       "      <td>20.0</td>\n",
       "      <td>False</td>\n",
       "      <td>10.0</td>\n",
       "    </tr>\n",
       "    <tr>\n",
       "      <th>400</th>\n",
       "      <td>156.35</td>\n",
       "      <td>20.0</td>\n",
       "      <td>False</td>\n",
       "      <td>10.0</td>\n",
       "    </tr>\n",
       "    <tr>\n",
       "      <th>700</th>\n",
       "      <td>268.60</td>\n",
       "      <td>20.0</td>\n",
       "      <td>False</td>\n",
       "      <td>10.0</td>\n",
       "    </tr>\n",
       "    <tr>\n",
       "      <th>1000</th>\n",
       "      <td>389.60</td>\n",
       "      <td>20.0</td>\n",
       "      <td>False</td>\n",
       "      <td>10.0</td>\n",
       "    </tr>\n",
       "    <tr>\n",
       "      <th>1300</th>\n",
       "      <td>502.65</td>\n",
       "      <td>20.0</td>\n",
       "      <td>False</td>\n",
       "      <td>10.0</td>\n",
       "    </tr>\n",
       "  </tbody>\n",
       "</table>\n",
       "</div>"
      ],
      "text/plain": [
       "         millis  keylen  batchapi  seed\n",
       "entries                                \n",
       "100       41.20    20.0     False  10.0\n",
       "400      156.35    20.0     False  10.0\n",
       "700      268.60    20.0     False  10.0\n",
       "1000     389.60    20.0     False  10.0\n",
       "1300     502.65    20.0     False  10.0"
      ]
     },
     "execution_count": 183,
     "metadata": {},
     "output_type": "execute_result"
    }
   ],
   "source": [
    "putTestNoBatchMean = putTestDfNoBatch.groupby(['entries']).mean()\n",
    "putTestNoBatchMean.head()"
   ]
  },
  {
   "cell_type": "code",
   "execution_count": 184,
   "id": "98969f05",
   "metadata": {},
   "outputs": [],
   "source": [
    "# Function to calculate linear regression\n",
    "def linear_regression(df):\n",
    "    y = np.array(df['millis'])\n",
    "    x = np.array(df['entries']).reshape((-1, 1))\n",
    "    model = LinearRegression()\n",
    "    model.fit(x, y)\n",
    "    r_sq = model.score(x, y)\n",
    "    return [r_sq, model.intercept_, model.coef_[0]]"
   ]
  },
  {
   "cell_type": "code",
   "execution_count": 185,
   "id": "43db2998",
   "metadata": {},
   "outputs": [],
   "source": [
    "# Function to plot error bars\n",
    "def plot_error_bars(groupdf, title, coef, interc, r2):\n",
    "    mean = np.array(groupdf.mean()['millis'])\n",
    "    std = np.array(groupdf.std()['millis'])\n",
    "    entries = [name for name, _ in groupdf]\n",
    "    linfunc = lambda x: coef * x + interc\n",
    "    x = np.array([100, 10000])\n",
    "    plt.title(title)\n",
    "    plt.xlabel(\"Number of keys\")\n",
    "    plt.ylabel(\"Milliseconds\")\n",
    "    plt.errorbar(entries, mean, std, fmt='--o')\n",
    "    plt.plot(x, linfunc(x), label=\"{:.6f} * x + {:.6f}, R^2 = {:.4}\".format(coef, interc, r2))\n",
    "    plt.legend()\n",
    "    plt.show()\n",
    "    "
   ]
  },
  {
   "cell_type": "code",
   "execution_count": 186,
   "id": "cfa1bf7f",
   "metadata": {},
   "outputs": [
    {
     "data": {
      "image/png": "[encoded data removed]",
      "text/plain": [
       "<Figure size 1440x720 with 1 Axes>"
      ]
     },
     "metadata": {
      "needs_background": "light"
     },
     "output_type": "display_data"
    }
   ],
   "source": [
    "[r2, interc, coef] = linear_regression(putTestDfNoBatch)\n",
    "\n",
    "plot_error_bars(putTestDfNoBatch.groupby('entries'), \"Put Without BatchAPI Mean with Std\", coef, interc, r2)"
   ]
  },
  {
   "cell_type": "code",
   "execution_count": 187,
   "id": "c1589d0c",
   "metadata": {},
   "outputs": [
    {
     "data": {
      "image/png": "[encoded data removed]",
      "text/plain": [
       "<Figure size 1440x720 with 1 Axes>"
      ]
     },
     "metadata": {
      "needs_background": "light"
     },
     "output_type": "display_data"
    }
   ],
   "source": [
    "[r2, interc, coef] = linear_regression(putTestDfBatch)\n",
    "plot_error_bars(putTestDfBatch.groupby('entries'), \"Put BatchAPI Mean with Std\", coef, interc, r2)"
   ]
  },
  {
   "cell_type": "code",
   "execution_count": 213,
   "id": "a1c6e8c2",
   "metadata": {},
   "outputs": [],
   "source": [
    "# Function to plot data with two lines\n",
    "def compare_plot(dfgroup1, label1, dfgroup2, label2, title):\n",
    "    mean1 = np.array(dfgroup1.mean()['millis'])\n",
    "    std1 = np.array(dfgroup2.std()['millis'])\n",
    "    mean2 = np.array(dfgroup2.mean()['millis'])\n",
    "    std2 = np.array(dfgroup1.std()['millis'])\n",
    "    entries = [name for name, _ in dfgroup1]\n",
    "    plt.title(title)\n",
    "    plt.xlabel(\"Number of keys\")\n",
    "    plt.ylabel(\"Milliseconds\")\n",
    "    plt.plot(entries, mean1, '--o', label=label1)\n",
    "    plt.plot(entries, mean2, \"--o\", label=label2)\n",
    "    plt.legend()\n",
    "    plt.show()"
   ]
  },
  {
   "cell_type": "code",
   "execution_count": 214,
   "id": "729a624e",
   "metadata": {},
   "outputs": [
    {
     "data": {
      "image/png": "[encoded data removed]",
      "text/plain": [
       "<Figure size 1440x720 with 1 Axes>"
      ]
     },
     "metadata": {
      "needs_background": "light"
     },
     "output_type": "display_data"
    }
   ],
   "source": [
    "compare_plot(putTestDfBatch.groupby('entries'), 'Invokation of PutStateBatch method', putTestDfNoBatch.groupby('entries'), 'Invokation of PutState/PutPrivateData in a loop', \"PutStateBatch vs Standard approach\")"
   ]
  },
  {
   "cell_type": "markdown",
   "id": "9e1e7ba4",
   "metadata": {},
   "source": [
    "## Кейс: DelState vs DelStateBatch\n",
    "Проанализируем данные, где происходит удаление данных из леджера"
   ]
  },
  {
   "cell_type": "code",
   "execution_count": 188,
   "id": "11fafefd",
   "metadata": {},
   "outputs": [
    {
     "data": {
      "text/plain": [
       "['stressPutAndDel7.KeyLen20.log',\n",
       " 'stressPutAndDel6.KeyLen20.log',\n",
       " 'stressPutAndDel1.KeyLen20.log',\n",
       " 'stressPutAndDel8.KeyLen20.log',\n",
       " 'stressPutAndDel9.KeyLen20.log']"
      ]
     },
     "execution_count": 188,
     "metadata": {},
     "output_type": "execute_result"
    }
   ],
   "source": [
    "del_files = [f for f in stress_files if \"PutAndDel\" in f]\n",
    "del_files[:5]"
   ]
  },
  {
   "cell_type": "code",
   "execution_count": 189,
   "id": "61a72fe3",
   "metadata": {},
   "outputs": [
    {
     "data": {
      "text/html": [
       "<div>\n",
       "<style scoped>\n",
       "    .dataframe tbody tr th:only-of-type {\n",
       "        vertical-align: middle;\n",
       "    }\n",
       "\n",
       "    .dataframe tbody tr th {\n",
       "        vertical-align: top;\n",
       "    }\n",
       "\n",
       "    .dataframe thead th {\n",
       "        text-align: right;\n",
       "    }\n",
       "</style>\n",
       "<table border=\"1\" class=\"dataframe\">\n",
       "  <thead>\n",
       "    <tr style=\"text-align: right;\">\n",
       "      <th></th>\n",
       "      <th>method</th>\n",
       "      <th>entries</th>\n",
       "      <th>millis</th>\n",
       "      <th>keylen</th>\n",
       "      <th>batchapi</th>\n",
       "      <th>collection</th>\n",
       "      <th>seed</th>\n",
       "    </tr>\n",
       "  </thead>\n",
       "  <tbody>\n",
       "    <tr>\n",
       "      <th>0</th>\n",
       "      <td>put</td>\n",
       "      <td>100</td>\n",
       "      <td>0</td>\n",
       "      <td>20</td>\n",
       "      <td>True</td>\n",
       "      <td></td>\n",
       "      <td>10</td>\n",
       "    </tr>\n",
       "    <tr>\n",
       "      <th>1</th>\n",
       "      <td>del</td>\n",
       "      <td>100</td>\n",
       "      <td>1</td>\n",
       "      <td>20</td>\n",
       "      <td>True</td>\n",
       "      <td></td>\n",
       "      <td>10</td>\n",
       "    </tr>\n",
       "    <tr>\n",
       "      <th>2</th>\n",
       "      <td>put</td>\n",
       "      <td>400</td>\n",
       "      <td>2</td>\n",
       "      <td>20</td>\n",
       "      <td>True</td>\n",
       "      <td></td>\n",
       "      <td>10</td>\n",
       "    </tr>\n",
       "    <tr>\n",
       "      <th>3</th>\n",
       "      <td>del</td>\n",
       "      <td>400</td>\n",
       "      <td>0</td>\n",
       "      <td>20</td>\n",
       "      <td>True</td>\n",
       "      <td></td>\n",
       "      <td>10</td>\n",
       "    </tr>\n",
       "    <tr>\n",
       "      <th>4</th>\n",
       "      <td>put</td>\n",
       "      <td>700</td>\n",
       "      <td>1</td>\n",
       "      <td>20</td>\n",
       "      <td>True</td>\n",
       "      <td></td>\n",
       "      <td>10</td>\n",
       "    </tr>\n",
       "  </tbody>\n",
       "</table>\n",
       "</div>"
      ],
      "text/plain": [
       "  method  entries  millis  keylen  batchapi collection  seed\n",
       "0    put      100       0      20      True               10\n",
       "1    del      100       1      20      True               10\n",
       "2    put      400       2      20      True               10\n",
       "3    del      400       0      20      True               10\n",
       "4    put      700       1      20      True               10"
      ]
     },
     "execution_count": 189,
     "metadata": {},
     "output_type": "execute_result"
    }
   ],
   "source": [
    "del_tests = []\n",
    "\n",
    "readFiles(del_files, del_tests)\n",
    "\n",
    "delTestDf = pd.DataFrame.from_records(del_tests)\n",
    "delTestDf.head()"
   ]
  },
  {
   "cell_type": "code",
   "execution_count": 190,
   "id": "0a9cefec",
   "metadata": {},
   "outputs": [
    {
     "data": {
      "text/html": [
       "<div>\n",
       "<style scoped>\n",
       "    .dataframe tbody tr th:only-of-type {\n",
       "        vertical-align: middle;\n",
       "    }\n",
       "\n",
       "    .dataframe tbody tr th {\n",
       "        vertical-align: top;\n",
       "    }\n",
       "\n",
       "    .dataframe thead th {\n",
       "        text-align: right;\n",
       "    }\n",
       "</style>\n",
       "<table border=\"1\" class=\"dataframe\">\n",
       "  <thead>\n",
       "    <tr style=\"text-align: right;\">\n",
       "      <th></th>\n",
       "      <th>method</th>\n",
       "      <th>entries</th>\n",
       "      <th>millis</th>\n",
       "      <th>keylen</th>\n",
       "      <th>batchapi</th>\n",
       "      <th>collection</th>\n",
       "      <th>seed</th>\n",
       "    </tr>\n",
       "  </thead>\n",
       "  <tbody>\n",
       "    <tr>\n",
       "      <th>1</th>\n",
       "      <td>del</td>\n",
       "      <td>100</td>\n",
       "      <td>1</td>\n",
       "      <td>20</td>\n",
       "      <td>True</td>\n",
       "      <td></td>\n",
       "      <td>10</td>\n",
       "    </tr>\n",
       "    <tr>\n",
       "      <th>3</th>\n",
       "      <td>del</td>\n",
       "      <td>400</td>\n",
       "      <td>0</td>\n",
       "      <td>20</td>\n",
       "      <td>True</td>\n",
       "      <td></td>\n",
       "      <td>10</td>\n",
       "    </tr>\n",
       "    <tr>\n",
       "      <th>5</th>\n",
       "      <td>del</td>\n",
       "      <td>700</td>\n",
       "      <td>1</td>\n",
       "      <td>20</td>\n",
       "      <td>True</td>\n",
       "      <td></td>\n",
       "      <td>10</td>\n",
       "    </tr>\n",
       "    <tr>\n",
       "      <th>7</th>\n",
       "      <td>del</td>\n",
       "      <td>1000</td>\n",
       "      <td>1</td>\n",
       "      <td>20</td>\n",
       "      <td>True</td>\n",
       "      <td></td>\n",
       "      <td>10</td>\n",
       "    </tr>\n",
       "    <tr>\n",
       "      <th>9</th>\n",
       "      <td>del</td>\n",
       "      <td>1300</td>\n",
       "      <td>2</td>\n",
       "      <td>20</td>\n",
       "      <td>True</td>\n",
       "      <td></td>\n",
       "      <td>10</td>\n",
       "    </tr>\n",
       "  </tbody>\n",
       "</table>\n",
       "</div>"
      ],
      "text/plain": [
       "  method  entries  millis  keylen  batchapi collection  seed\n",
       "1    del      100       1      20      True               10\n",
       "3    del      400       0      20      True               10\n",
       "5    del      700       1      20      True               10\n",
       "7    del     1000       1      20      True               10\n",
       "9    del     1300       2      20      True               10"
      ]
     },
     "execution_count": 190,
     "metadata": {},
     "output_type": "execute_result"
    }
   ],
   "source": [
    "# We need only \"method=del\" data\n",
    "delTestDf = delTestDf.loc[delTestDf[\"method\"] == \"del\"]\n",
    "delTestDf.head()"
   ]
  },
  {
   "cell_type": "code",
   "execution_count": 191,
   "id": "6b8aaabb",
   "metadata": {},
   "outputs": [
    {
     "data": {
      "text/html": [
       "<div>\n",
       "<style scoped>\n",
       "    .dataframe tbody tr th:only-of-type {\n",
       "        vertical-align: middle;\n",
       "    }\n",
       "\n",
       "    .dataframe tbody tr th {\n",
       "        vertical-align: top;\n",
       "    }\n",
       "\n",
       "    .dataframe thead th {\n",
       "        text-align: right;\n",
       "    }\n",
       "</style>\n",
       "<table border=\"1\" class=\"dataframe\">\n",
       "  <thead>\n",
       "    <tr style=\"text-align: right;\">\n",
       "      <th></th>\n",
       "      <th>method</th>\n",
       "      <th>entries</th>\n",
       "      <th>millis</th>\n",
       "      <th>keylen</th>\n",
       "      <th>batchapi</th>\n",
       "      <th>collection</th>\n",
       "      <th>seed</th>\n",
       "    </tr>\n",
       "  </thead>\n",
       "  <tbody>\n",
       "    <tr>\n",
       "      <th>1</th>\n",
       "      <td>del</td>\n",
       "      <td>100</td>\n",
       "      <td>1</td>\n",
       "      <td>20</td>\n",
       "      <td>True</td>\n",
       "      <td></td>\n",
       "      <td>10</td>\n",
       "    </tr>\n",
       "    <tr>\n",
       "      <th>3</th>\n",
       "      <td>del</td>\n",
       "      <td>400</td>\n",
       "      <td>0</td>\n",
       "      <td>20</td>\n",
       "      <td>True</td>\n",
       "      <td></td>\n",
       "      <td>10</td>\n",
       "    </tr>\n",
       "    <tr>\n",
       "      <th>5</th>\n",
       "      <td>del</td>\n",
       "      <td>700</td>\n",
       "      <td>1</td>\n",
       "      <td>20</td>\n",
       "      <td>True</td>\n",
       "      <td></td>\n",
       "      <td>10</td>\n",
       "    </tr>\n",
       "    <tr>\n",
       "      <th>7</th>\n",
       "      <td>del</td>\n",
       "      <td>1000</td>\n",
       "      <td>1</td>\n",
       "      <td>20</td>\n",
       "      <td>True</td>\n",
       "      <td></td>\n",
       "      <td>10</td>\n",
       "    </tr>\n",
       "    <tr>\n",
       "      <th>9</th>\n",
       "      <td>del</td>\n",
       "      <td>1300</td>\n",
       "      <td>2</td>\n",
       "      <td>20</td>\n",
       "      <td>True</td>\n",
       "      <td></td>\n",
       "      <td>10</td>\n",
       "    </tr>\n",
       "  </tbody>\n",
       "</table>\n",
       "</div>"
      ],
      "text/plain": [
       "  method  entries  millis  keylen  batchapi collection  seed\n",
       "1    del      100       1      20      True               10\n",
       "3    del      400       0      20      True               10\n",
       "5    del      700       1      20      True               10\n",
       "7    del     1000       1      20      True               10\n",
       "9    del     1300       2      20      True               10"
      ]
     },
     "execution_count": 191,
     "metadata": {},
     "output_type": "execute_result"
    }
   ],
   "source": [
    "# Get entries with BatchAPI\n",
    "delTestDfBatch = delTestDf.loc[delTestDf['batchapi'] == True]\n",
    "delTestDfBatch.head()"
   ]
  },
  {
   "cell_type": "code",
   "execution_count": 192,
   "id": "e440b8ed",
   "metadata": {},
   "outputs": [
    {
     "data": {
      "text/html": [
       "<div>\n",
       "<style scoped>\n",
       "    .dataframe tbody tr th:only-of-type {\n",
       "        vertical-align: middle;\n",
       "    }\n",
       "\n",
       "    .dataframe tbody tr th {\n",
       "        vertical-align: top;\n",
       "    }\n",
       "\n",
       "    .dataframe thead th {\n",
       "        text-align: right;\n",
       "    }\n",
       "</style>\n",
       "<table border=\"1\" class=\"dataframe\">\n",
       "  <thead>\n",
       "    <tr style=\"text-align: right;\">\n",
       "      <th></th>\n",
       "      <th>method</th>\n",
       "      <th>entries</th>\n",
       "      <th>millis</th>\n",
       "      <th>keylen</th>\n",
       "      <th>batchapi</th>\n",
       "      <th>collection</th>\n",
       "      <th>seed</th>\n",
       "    </tr>\n",
       "  </thead>\n",
       "  <tbody>\n",
       "    <tr>\n",
       "      <th>69</th>\n",
       "      <td>del</td>\n",
       "      <td>100</td>\n",
       "      <td>54</td>\n",
       "      <td>20</td>\n",
       "      <td>False</td>\n",
       "      <td></td>\n",
       "      <td>10</td>\n",
       "    </tr>\n",
       "    <tr>\n",
       "      <th>71</th>\n",
       "      <td>del</td>\n",
       "      <td>400</td>\n",
       "      <td>166</td>\n",
       "      <td>20</td>\n",
       "      <td>False</td>\n",
       "      <td></td>\n",
       "      <td>10</td>\n",
       "    </tr>\n",
       "    <tr>\n",
       "      <th>73</th>\n",
       "      <td>del</td>\n",
       "      <td>700</td>\n",
       "      <td>357</td>\n",
       "      <td>20</td>\n",
       "      <td>False</td>\n",
       "      <td></td>\n",
       "      <td>10</td>\n",
       "    </tr>\n",
       "    <tr>\n",
       "      <th>75</th>\n",
       "      <td>del</td>\n",
       "      <td>1000</td>\n",
       "      <td>376</td>\n",
       "      <td>20</td>\n",
       "      <td>False</td>\n",
       "      <td></td>\n",
       "      <td>10</td>\n",
       "    </tr>\n",
       "    <tr>\n",
       "      <th>77</th>\n",
       "      <td>del</td>\n",
       "      <td>1300</td>\n",
       "      <td>548</td>\n",
       "      <td>20</td>\n",
       "      <td>False</td>\n",
       "      <td></td>\n",
       "      <td>10</td>\n",
       "    </tr>\n",
       "  </tbody>\n",
       "</table>\n",
       "</div>"
      ],
      "text/plain": [
       "   method  entries  millis  keylen  batchapi collection  seed\n",
       "69    del      100      54      20     False               10\n",
       "71    del      400     166      20     False               10\n",
       "73    del      700     357      20     False               10\n",
       "75    del     1000     376      20     False               10\n",
       "77    del     1300     548      20     False               10"
      ]
     },
     "execution_count": 192,
     "metadata": {},
     "output_type": "execute_result"
    }
   ],
   "source": [
    "# Get entries without use of BatchAPI\n",
    "delTestDfNoBatch = delTestDf.loc[delTestDf['batchapi'] == False]\n",
    "delTestDfNoBatch.head()"
   ]
  },
  {
   "cell_type": "code",
   "execution_count": 193,
   "id": "8ff0c3be",
   "metadata": {},
   "outputs": [
    {
     "data": {
      "text/html": [
       "<div>\n",
       "<style scoped>\n",
       "    .dataframe tbody tr th:only-of-type {\n",
       "        vertical-align: middle;\n",
       "    }\n",
       "\n",
       "    .dataframe tbody tr th {\n",
       "        vertical-align: top;\n",
       "    }\n",
       "\n",
       "    .dataframe thead th {\n",
       "        text-align: right;\n",
       "    }\n",
       "</style>\n",
       "<table border=\"1\" class=\"dataframe\">\n",
       "  <thead>\n",
       "    <tr style=\"text-align: right;\">\n",
       "      <th></th>\n",
       "      <th>millis</th>\n",
       "      <th>keylen</th>\n",
       "      <th>batchapi</th>\n",
       "      <th>seed</th>\n",
       "    </tr>\n",
       "    <tr>\n",
       "      <th>entries</th>\n",
       "      <th></th>\n",
       "      <th></th>\n",
       "      <th></th>\n",
       "      <th></th>\n",
       "    </tr>\n",
       "  </thead>\n",
       "  <tbody>\n",
       "    <tr>\n",
       "      <th>100</th>\n",
       "      <td>0.666667</td>\n",
       "      <td>20.0</td>\n",
       "      <td>True</td>\n",
       "      <td>10.0</td>\n",
       "    </tr>\n",
       "    <tr>\n",
       "      <th>400</th>\n",
       "      <td>0.750000</td>\n",
       "      <td>20.0</td>\n",
       "      <td>True</td>\n",
       "      <td>10.0</td>\n",
       "    </tr>\n",
       "    <tr>\n",
       "      <th>700</th>\n",
       "      <td>1.416667</td>\n",
       "      <td>20.0</td>\n",
       "      <td>True</td>\n",
       "      <td>10.0</td>\n",
       "    </tr>\n",
       "    <tr>\n",
       "      <th>1000</th>\n",
       "      <td>2.250000</td>\n",
       "      <td>20.0</td>\n",
       "      <td>True</td>\n",
       "      <td>10.0</td>\n",
       "    </tr>\n",
       "    <tr>\n",
       "      <th>1300</th>\n",
       "      <td>2.083333</td>\n",
       "      <td>20.0</td>\n",
       "      <td>True</td>\n",
       "      <td>10.0</td>\n",
       "    </tr>\n",
       "  </tbody>\n",
       "</table>\n",
       "</div>"
      ],
      "text/plain": [
       "           millis  keylen  batchapi  seed\n",
       "entries                                  \n",
       "100      0.666667    20.0      True  10.0\n",
       "400      0.750000    20.0      True  10.0\n",
       "700      1.416667    20.0      True  10.0\n",
       "1000     2.250000    20.0      True  10.0\n",
       "1300     2.083333    20.0      True  10.0"
      ]
     },
     "execution_count": 193,
     "metadata": {},
     "output_type": "execute_result"
    }
   ],
   "source": [
    "# BatchAPI Del invokations mean by entries\n",
    "delTestBatchMean = delTestDfBatch.groupby(['entries']).mean()\n",
    "delTestBatchMean.head()"
   ]
  },
  {
   "cell_type": "code",
   "execution_count": 194,
   "id": "404f1a06",
   "metadata": {},
   "outputs": [
    {
     "data": {
      "text/html": [
       "<div>\n",
       "<style scoped>\n",
       "    .dataframe tbody tr th:only-of-type {\n",
       "        vertical-align: middle;\n",
       "    }\n",
       "\n",
       "    .dataframe tbody tr th {\n",
       "        vertical-align: top;\n",
       "    }\n",
       "\n",
       "    .dataframe thead th {\n",
       "        text-align: right;\n",
       "    }\n",
       "</style>\n",
       "<table border=\"1\" class=\"dataframe\">\n",
       "  <thead>\n",
       "    <tr style=\"text-align: right;\">\n",
       "      <th></th>\n",
       "      <th>millis</th>\n",
       "      <th>keylen</th>\n",
       "      <th>batchapi</th>\n",
       "      <th>seed</th>\n",
       "    </tr>\n",
       "    <tr>\n",
       "      <th>entries</th>\n",
       "      <th></th>\n",
       "      <th></th>\n",
       "      <th></th>\n",
       "      <th></th>\n",
       "    </tr>\n",
       "  </thead>\n",
       "  <tbody>\n",
       "    <tr>\n",
       "      <th>100</th>\n",
       "      <td>42.9</td>\n",
       "      <td>20.0</td>\n",
       "      <td>False</td>\n",
       "      <td>10.0</td>\n",
       "    </tr>\n",
       "    <tr>\n",
       "      <th>400</th>\n",
       "      <td>166.7</td>\n",
       "      <td>20.0</td>\n",
       "      <td>False</td>\n",
       "      <td>10.0</td>\n",
       "    </tr>\n",
       "    <tr>\n",
       "      <th>700</th>\n",
       "      <td>296.7</td>\n",
       "      <td>20.0</td>\n",
       "      <td>False</td>\n",
       "      <td>10.0</td>\n",
       "    </tr>\n",
       "    <tr>\n",
       "      <th>1000</th>\n",
       "      <td>403.0</td>\n",
       "      <td>20.0</td>\n",
       "      <td>False</td>\n",
       "      <td>10.0</td>\n",
       "    </tr>\n",
       "    <tr>\n",
       "      <th>1300</th>\n",
       "      <td>568.3</td>\n",
       "      <td>20.0</td>\n",
       "      <td>False</td>\n",
       "      <td>10.0</td>\n",
       "    </tr>\n",
       "  </tbody>\n",
       "</table>\n",
       "</div>"
      ],
      "text/plain": [
       "         millis  keylen  batchapi  seed\n",
       "entries                                \n",
       "100        42.9    20.0     False  10.0\n",
       "400       166.7    20.0     False  10.0\n",
       "700       296.7    20.0     False  10.0\n",
       "1000      403.0    20.0     False  10.0\n",
       "1300      568.3    20.0     False  10.0"
      ]
     },
     "execution_count": 194,
     "metadata": {},
     "output_type": "execute_result"
    }
   ],
   "source": [
    "# Without use of BatchAPI Del invokations mean by entries\n",
    "delTestNoBatchMean = delTestDfNoBatch.groupby(['entries']).mean()\n",
    "delTestNoBatchMean.head()"
   ]
  },
  {
   "cell_type": "code",
   "execution_count": 195,
   "id": "141eeb2e",
   "metadata": {},
   "outputs": [
    {
     "data": {
      "image/png": "[encoded data removed]",
      "text/plain": [
       "<Figure size 1440x720 with 1 Axes>"
      ]
     },
     "metadata": {
      "needs_background": "light"
     },
     "output_type": "display_data"
    }
   ],
   "source": [
    "[r2, interc, coef] = linear_regression(delTestDfNoBatch)\n",
    "\n",
    "plot_error_bars(delTestDfNoBatch.groupby('entries'), \"Del Without BatchAPI Mean with Std\", coef, interc, r2)"
   ]
  },
  {
   "cell_type": "code",
   "execution_count": 196,
   "id": "82621631",
   "metadata": {},
   "outputs": [
    {
     "data": {
      "image/png": "[encoded data removed]",
      "text/plain": [
       "<Figure size 1440x720 with 1 Axes>"
      ]
     },
     "metadata": {
      "needs_background": "light"
     },
     "output_type": "display_data"
    }
   ],
   "source": [
    "[r2, interc, coef] = linear_regression(delTestDfBatch)\n",
    "plot_error_bars(delTestDfBatch.groupby('entries'), \"Del BatchAPI Mean with Std\", coef, interc, r2)"
   ]
  },
  {
   "cell_type": "code",
   "execution_count": 215,
   "id": "ff0db472",
   "metadata": {},
   "outputs": [
    {
     "data": {
      "image/png": "[encoded data removed]",
      "text/plain": [
       "<Figure size 1440x720 with 1 Axes>"
      ]
     },
     "metadata": {
      "needs_background": "light"
     },
     "output_type": "display_data"
    }
   ],
   "source": [
    "compare_plot(delTestDfBatch.groupby('entries'), 'Invokation of DelStateBatch method', delTestDfNoBatch.groupby('entries'), 'Invokation of DelState/DelPrivateData in a loop', \"DelStateBatch vs Standard approach\")"
   ]
  },
  {
   "cell_type": "markdown",
   "id": "3d3aeede",
   "metadata": {},
   "source": [
    "## Кейс: GetRange vs GetStateBatch\n",
    "Проанализируем данные, где происходит чтение данных GetStateByRange и GetStateBatch"
   ]
  },
  {
   "cell_type": "code",
   "execution_count": 197,
   "id": "8c861bcb",
   "metadata": {},
   "outputs": [
    {
     "data": {
      "text/plain": [
       "['scenarioGetRangeVSBatchAPI1.log']"
      ]
     },
     "execution_count": 197,
     "metadata": {},
     "output_type": "execute_result"
    }
   ],
   "source": [
    "getrange_files = [f for f in stress_files if \"GetRangeVSBatchAPI\" in f]\n",
    "getrange_files[:5]"
   ]
  },
  {
   "cell_type": "code",
   "execution_count": 220,
   "id": "1c570820",
   "metadata": {},
   "outputs": [
    {
     "data": {
      "text/html": [
       "<div>\n",
       "<style scoped>\n",
       "    .dataframe tbody tr th:only-of-type {\n",
       "        vertical-align: middle;\n",
       "    }\n",
       "\n",
       "    .dataframe tbody tr th {\n",
       "        vertical-align: top;\n",
       "    }\n",
       "\n",
       "    .dataframe thead th {\n",
       "        text-align: right;\n",
       "    }\n",
       "</style>\n",
       "<table border=\"1\" class=\"dataframe\">\n",
       "  <thead>\n",
       "    <tr style=\"text-align: right;\">\n",
       "      <th></th>\n",
       "      <th>method</th>\n",
       "      <th>entries</th>\n",
       "      <th>millis</th>\n",
       "      <th>batchapi</th>\n",
       "    </tr>\n",
       "  </thead>\n",
       "  <tbody>\n",
       "    <tr>\n",
       "      <th>0</th>\n",
       "      <td>getrange</td>\n",
       "      <td>3337</td>\n",
       "      <td>64</td>\n",
       "      <td>False</td>\n",
       "    </tr>\n",
       "    <tr>\n",
       "      <th>1</th>\n",
       "      <td>getrange</td>\n",
       "      <td>4001</td>\n",
       "      <td>30</td>\n",
       "      <td>True</td>\n",
       "    </tr>\n",
       "    <tr>\n",
       "      <th>2</th>\n",
       "      <td>getrange</td>\n",
       "      <td>3337</td>\n",
       "      <td>52</td>\n",
       "      <td>False</td>\n",
       "    </tr>\n",
       "    <tr>\n",
       "      <th>3</th>\n",
       "      <td>getrange</td>\n",
       "      <td>4001</td>\n",
       "      <td>26</td>\n",
       "      <td>True</td>\n",
       "    </tr>\n",
       "    <tr>\n",
       "      <th>4</th>\n",
       "      <td>getrange</td>\n",
       "      <td>3337</td>\n",
       "      <td>48</td>\n",
       "      <td>False</td>\n",
       "    </tr>\n",
       "  </tbody>\n",
       "</table>\n",
       "</div>"
      ],
      "text/plain": [
       "     method  entries  millis  batchapi\n",
       "0  getrange     3337      64     False\n",
       "1  getrange     4001      30      True\n",
       "2  getrange     3337      52     False\n",
       "3  getrange     4001      26      True\n",
       "4  getrange     3337      48     False"
      ]
     },
     "execution_count": 220,
     "metadata": {},
     "output_type": "execute_result"
    }
   ],
   "source": [
    "getrange_tests = []\n",
    "\n",
    "readFiles(getrange_files, getrange_tests)\n",
    "\n",
    "rangeTestDf = pd.DataFrame.from_records(getrange_tests)\n",
    "rangeTestDf.head()"
   ]
  },
  {
   "cell_type": "code",
   "execution_count": 221,
   "id": "20840a5e",
   "metadata": {},
   "outputs": [
    {
     "data": {
      "text/html": [
       "<div>\n",
       "<style scoped>\n",
       "    .dataframe tbody tr th:only-of-type {\n",
       "        vertical-align: middle;\n",
       "    }\n",
       "\n",
       "    .dataframe tbody tr th {\n",
       "        vertical-align: top;\n",
       "    }\n",
       "\n",
       "    .dataframe thead th {\n",
       "        text-align: right;\n",
       "    }\n",
       "</style>\n",
       "<table border=\"1\" class=\"dataframe\">\n",
       "  <thead>\n",
       "    <tr style=\"text-align: right;\">\n",
       "      <th></th>\n",
       "      <th>entries</th>\n",
       "      <th>millis</th>\n",
       "    </tr>\n",
       "    <tr>\n",
       "      <th>batchapi</th>\n",
       "      <th></th>\n",
       "      <th></th>\n",
       "    </tr>\n",
       "  </thead>\n",
       "  <tbody>\n",
       "    <tr>\n",
       "      <th>False</th>\n",
       "      <td>3337.0</td>\n",
       "      <td>67.9</td>\n",
       "    </tr>\n",
       "    <tr>\n",
       "      <th>True</th>\n",
       "      <td>4001.0</td>\n",
       "      <td>24.9</td>\n",
       "    </tr>\n",
       "  </tbody>\n",
       "</table>\n",
       "</div>"
      ],
      "text/plain": [
       "          entries  millis\n",
       "batchapi                 \n",
       "False      3337.0    67.9\n",
       "True       4001.0    24.9"
      ]
     },
     "execution_count": 221,
     "metadata": {},
     "output_type": "execute_result"
    }
   ],
   "source": [
    "# Both batchapi and range approaches should return 4001 entries, \n",
    "# but GetByRange returns 3337 entries, this problem is under discussion\n",
    "\n",
    "rangeTestDf.groupby('batchapi').mean()"
   ]
  },
  {
   "cell_type": "code",
   "execution_count": 222,
   "id": "c8ac358e",
   "metadata": {},
   "outputs": [
    {
     "data": {
      "text/html": [
       "<div>\n",
       "<style scoped>\n",
       "    .dataframe tbody tr th:only-of-type {\n",
       "        vertical-align: middle;\n",
       "    }\n",
       "\n",
       "    .dataframe tbody tr th {\n",
       "        vertical-align: top;\n",
       "    }\n",
       "\n",
       "    .dataframe thead th {\n",
       "        text-align: right;\n",
       "    }\n",
       "</style>\n",
       "<table border=\"1\" class=\"dataframe\">\n",
       "  <thead>\n",
       "    <tr style=\"text-align: right;\">\n",
       "      <th></th>\n",
       "      <th>entries</th>\n",
       "      <th>millis</th>\n",
       "    </tr>\n",
       "    <tr>\n",
       "      <th>batchapi</th>\n",
       "      <th></th>\n",
       "      <th></th>\n",
       "    </tr>\n",
       "  </thead>\n",
       "  <tbody>\n",
       "    <tr>\n",
       "      <th>False</th>\n",
       "      <td>0.0</td>\n",
       "      <td>13.262246</td>\n",
       "    </tr>\n",
       "    <tr>\n",
       "      <th>True</th>\n",
       "      <td>0.0</td>\n",
       "      <td>4.770637</td>\n",
       "    </tr>\n",
       "  </tbody>\n",
       "</table>\n",
       "</div>"
      ],
      "text/plain": [
       "          entries     millis\n",
       "batchapi                    \n",
       "False         0.0  13.262246\n",
       "True          0.0   4.770637"
      ]
     },
     "execution_count": 222,
     "metadata": {},
     "output_type": "execute_result"
    }
   ],
   "source": [
    "rangeTestDf.groupby('batchapi').std()"
   ]
  }
 ],
 "metadata": {
  "kernelspec": {
   "display_name": "Python 3",
   "language": "python",
   "name": "python3"
  },
  "language_info": {
   "codemirror_mode": {
    "name": "ipython",
    "version": 3
   },
   "file_extension": ".py",
   "mimetype": "text/x-python",
   "name": "python",
   "nbconvert_exporter": "python",
   "pygments_lexer": "ipython3",
   "version": "3.8.8"
  }
 },
 "nbformat": 4,
 "nbformat_minor": 5
}
